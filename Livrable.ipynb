{
 "cells": [
  {
   "cell_type": "markdown",
   "id": "8823dd8a",
   "metadata": {},
   "source": [
    "<center> <h1> Etude Santé Publique </h1> </center>"
   ]
  },
  {
   "cell_type": "markdown",
   "id": "86926caa",
   "metadata": {},
   "source": [
    "# Sommaire\n",
    "1. [Introduction](#introduction)\n",
    "    \n",
    "2. [Demandes de Marc](#DemandesdeMarc)\n",
    "    2.1.1 [Proportion de personnes en état de sous-nutrition](#Proportiondepersonnesenétatdesous-nutrition)\n",
    "    2.1.2 [Nombre théorique de personnes qui pourraient être nourries](#Nombrethéoriquepersonnesnourries)\n",
    "    2.2.1 [Nombre théorique de personnes qui pourraient être nourries avec des produits végétaux](#Nombrethéoriquepersonnesnourriesproduitsvégétaux)\n",
    "    2.2.2 [Nombre théorique de personnes qui pourraient être nourries avec des produits animales](#Nombrethéoriquepersonnesnourriesproduitsanimales)\n",
    "    2.3.1 [Utilisation de la disponibilité intérieure](#disponibiliteinterieure)\n",
    "    2.3.2 [Part attribuée à l’alimentation animale](#Partalimentationanimale)\n",
    "    2.3.3 [Part attribuée à l’alimentation humaine](#Partalimentationhumaine)\n",
    "    2.3.4 [Part attribuée perdue](#Partalimentationperdue)\n",
    "   \n",
    "3. [Demandes de Mélanie](#DemandesMélanie)\n",
    "    3.1 [Pays avec plus forts proportion sous alimentations en 2017](#Paysfortsproportionsousalimentations2017) \n",
    "    3.2 [Pays qui ont le plus bénéficié d’aide depuis 2013](#Paysfortaide2013) \n",
    "    3.3 [Pays ayant le plus de disponibilite/habitant](#Paysfortdisponibilite/habitant) \n",
    "    3.4 [Pays ayant le moins de disponibilite/habitant](#Paysfaiblesdisponibilite/habitant) \n",
    "   \n",
    "4. [Observations de Julien](#ObservationsJulien)\n",
    "   4.1.[Utilisations du Cereal](#UtilisationsCereal)\n",
    "   4.2.[Utilisations du Manioc](#UtilisationsManioc)"
   ]
  },
  {
   "cell_type": "markdown",
   "id": "d7580782",
   "metadata": {},
   "source": [
    "Pour commencer notre étude, on va procéder par l'importation de nos données de la Food and Agriculture Organization of the United Nations (FAO)."
   ]
  },
  {
   "cell_type": "code",
   "execution_count": 1,
   "id": "37d668af",
   "metadata": {},
   "outputs": [
    {
     "name": "stderr",
     "output_type": "stream",
     "text": [
      "Registered S3 methods overwritten by 'ggplot2':\n",
      "  method         from \n",
      "  [.quosures     rlang\n",
      "  c.quosures     rlang\n",
      "  print.quosures rlang\n",
      "Registered S3 method overwritten by 'rvest':\n",
      "  method            from\n",
      "  read_xml.response xml2\n",
      "-- Attaching packages --------------------------------------- tidyverse 1.2.1 --\n",
      "v ggplot2 3.1.1       v purrr   0.3.2  \n",
      "v tibble  2.1.1       v dplyr   0.8.0.1\n",
      "v tidyr   0.8.3       v stringr 1.4.0  \n",
      "v readr   1.3.1       v forcats 0.4.0  \n",
      "-- Conflicts ------------------------------------------ tidyverse_conflicts() --\n",
      "x dplyr::filter() masks stats::filter()\n",
      "x dplyr::lag()    masks stats::lag()\n"
     ]
    }
   ],
   "source": [
    "aide_alimentaire <- read.csv(\"~/OpenClassrooms/Projet 4/donnees/aide_alimentaire.csv\", encoding=\"UTF-8\")\n",
    "dispo_alimentaire <- read.csv(\"~/OpenClassrooms/Projet 4/donnees/dispo_alimentaire.csv\",encoding=\"UTF-8\")\n",
    "population <- read.csv(\"~/OpenClassrooms/Projet 4/donnees/population.csv\",encoding=\"UTF-8\")\n",
    "sous_nutrition <- read.csv(\"~/OpenClassrooms/Projet 4/donnees/sous_nutrition.csv\",encoding=\"UTF-8\")\n",
    "cereal <- read.csv(\"~/OpenClassrooms/Projet 4/donnees/cereal.csv\",encoding=\"UTF-8\")\n",
    "options(warn = - 1) \n",
    "library(tidyverse)\n",
    "library(ggplot2) "
   ]
  },
  {
   "cell_type": "markdown",
   "id": "9716a75b",
   "metadata": {},
   "source": [
    "# Demandes de Marc <a name=\"DemandesdeMarc\"></a>"
   ]
  },
  {
   "cell_type": "markdown",
   "id": "d138eb35",
   "metadata": {},
   "source": [
    "## 1) Proportion de personnes en état de sous-nutrition <a name=\"Proportiondepersonnesenétatdesous-nutrition\"></a>"
   ]
  },
  {
   "cell_type": "markdown",
   "id": "0feae3ac",
   "metadata": {},
   "source": [
    "Pour obtenir la proportion de personnes en etat de sous-nutrition pour l'annee 2017, on aura besoin des donnees concernant la population et les valeurs de sous nutrition dans le monde filtrer pour l'annee 2017."
   ]
  },
  {
   "cell_type": "code",
   "execution_count": 2,
   "id": "e2b4c3de",
   "metadata": {
    "scrolled": true
   },
   "outputs": [
    {
     "data": {
      "text/html": [
       "<table>\n",
       "<thead><tr><th></th><th scope=col>Zone</th><th scope=col>Année</th><th scope=col>val_sousnutri</th><th scope=col>poptotal</th></tr></thead>\n",
       "<tbody>\n",
       "\t<tr><th scope=row>1</th><td>Afghanistan    </td><td>2017           </td><td>10.5           </td><td>36296.113      </td></tr>\n",
       "\t<tr><th scope=row>2</th><td>Afrique du Sud </td><td>2017           </td><td> 3.1           </td><td>57009.756      </td></tr>\n",
       "\t<tr><th scope=row>3</th><td>Albanie        </td><td>2017           </td><td> 0.1           </td><td> 2884.169      </td></tr>\n",
       "\t<tr><th scope=row>4</th><td>Algérie        </td><td>2017           </td><td> 1.3           </td><td>41389.189      </td></tr>\n",
       "\t<tr><th scope=row>7</th><td>Angola         </td><td>2017           </td><td> 5.8           </td><td>29816.766      </td></tr>\n",
       "\t<tr><th scope=row>9</th><td>Arabie saoudite</td><td>2017           </td><td> 1.6           </td><td>33101.179      </td></tr>\n",
       "</tbody>\n",
       "</table>\n"
      ],
      "text/latex": [
       "\\begin{tabular}{r|llll}\n",
       "  & Zone & Année & val\\_sousnutri & poptotal\\\\\n",
       "\\hline\n",
       "\t1 & Afghanistan     & 2017            & 10.5            & 36296.113      \\\\\n",
       "\t2 & Afrique du Sud  & 2017            &  3.1            & 57009.756      \\\\\n",
       "\t3 & Albanie         & 2017            &  0.1            &  2884.169      \\\\\n",
       "\t4 & Algérie         & 2017            &  1.3            & 41389.189      \\\\\n",
       "\t7 & Angola          & 2017            &  5.8            & 29816.766      \\\\\n",
       "\t9 & Arabie saoudite & 2017            &  1.6            & 33101.179      \\\\\n",
       "\\end{tabular}\n"
      ],
      "text/markdown": [
       "\n",
       "| <!--/--> | Zone | Année | val_sousnutri | poptotal |\n",
       "|---|---|---|---|---|\n",
       "| 1 | Afghanistan     | 2017            | 10.5            | 36296.113       |\n",
       "| 2 | Afrique du Sud  | 2017            |  3.1            | 57009.756       |\n",
       "| 3 | Albanie         | 2017            |  0.1            |  2884.169       |\n",
       "| 4 | Algérie         | 2017            |  1.3            | 41389.189       |\n",
       "| 7 | Angola          | 2017            |  5.8            | 29816.766       |\n",
       "| 9 | Arabie saoudite | 2017            |  1.6            | 33101.179       |\n",
       "\n"
      ],
      "text/plain": [
       "  Zone            Année val_sousnutri poptotal \n",
       "1 Afghanistan     2017  10.5          36296.113\n",
       "2 Afrique du Sud  2017   3.1          57009.756\n",
       "3 Albanie         2017   0.1           2884.169\n",
       "4 Algérie         2017   1.3          41389.189\n",
       "7 Angola          2017   5.8          29816.766\n",
       "9 Arabie saoudite 2017   1.6          33101.179"
      ]
     },
     "metadata": {},
     "output_type": "display_data"
    }
   ],
   "source": [
    "#Filtration population et sous-nutrition\n",
    "population_2017 = dplyr::filter(population, Année == 2017)\n",
    "sous_nutrition_2017 = dplyr::filter(sous_nutrition, Année == '2016-2018')\n",
    "sous_nutrition_2017['Année'] = 2017\n",
    "colnames(sous_nutrition_2017)[3]<-'val_sousnutri'\n",
    "colnames(population_2017)[3]<-'poptotal'\n",
    "#Combinaison et nettoyage de nouvelle table\n",
    "prop_sous_nutrition_2017 =merge(sous_nutrition_2017, population_2017, by=c(\"Zone\",\"Année\"))\n",
    "prop_sous_nutrition_2017$val_sousnutri = replace( prop_sous_nutrition_2017$val_sousnutri ,prop_sous_nutrition_2017$val_sousnutri==\"<0.1\", \"0.1\")\n",
    "prop_sous_nutrition_2017$val_sousnutri = as.numeric(as.character(prop_sous_nutrition_2017$val_sousnutri))\n",
    "prop_sous_nutrition_2017 =na.omit(prop_sous_nutrition_2017)\n",
    "head(prop_sous_nutrition_2017)"
   ]
  },
  {
   "cell_type": "code",
   "execution_count": 3,
   "id": "1898e7c6",
   "metadata": {
    "scrolled": true
   },
   "outputs": [
    {
     "data": {
      "text/plain": [
       "              Zone        Année      val_sousnutri        poptotal        \n",
       " Afghanistan    : 1   Min.   :2017   Min.   :  0.100   Min.   :     71.5  \n",
       " Afrique du Sud : 1   1st Qu.:2017   1st Qu.:  0.300   1st Qu.:   2763.8  \n",
       " Albanie        : 1   Median :2017   Median :  1.050   Median :  10747.7  \n",
       " Algérie        : 1   Mean   :2017   Mean   :  5.170   Mean   :  40219.5  \n",
       " Angola         : 1   3rd Qu.:2017   3rd Qu.:  3.975   3rd Qu.:  31573.2  \n",
       " Arabie saoudite: 1   Max.   :2017   Max.   :190.100   Max.   :1338676.8  \n",
       " (Other)        :98                                                       "
      ]
     },
     "metadata": {},
     "output_type": "display_data"
    }
   ],
   "source": [
    "summary(prop_sous_nutrition_2017)"
   ]
  },
  {
   "cell_type": "markdown",
   "id": "e39b516b",
   "metadata": {},
   "source": [
    "#### On peut maintenant calculer la proportion de sous nutrition en calculant la somme total de la population et la valeur de sous-nutrition respectivement puis diviser ces valeurs pour obtenir la proportion de personnes en sous-nutrition."
   ]
  },
  {
   "cell_type": "code",
   "execution_count": 4,
   "id": "a7891d47",
   "metadata": {},
   "outputs": [
    {
     "data": {
      "text/html": [
       "7.124"
      ],
      "text/latex": [
       "7.124"
      ],
      "text/markdown": [
       "7.124"
      ],
      "text/plain": [
       "[1] 7.124"
      ]
     },
     "metadata": {},
     "output_type": "display_data"
    }
   ],
   "source": [
    "tot_valsousnutri = sum(prop_sous_nutrition_2017$val_sousnutri)\n",
    "tot_population_2017 = sum(population_2017$poptotal)/1000\n",
    "Proportion_nutrition = tot_valsousnutri/tot_population_2017\n",
    "round(Proportion_nutrition*100,3)"
   ]
  },
  {
   "cell_type": "markdown",
   "id": "496f5cfe",
   "metadata": {},
   "source": [
    "#### Or, en supprimant les valeurs absentes d'indice de sous-nutrtion de notre table de donnees et prendre en compte les valeurs comprenant le  nombre total de population et de sous nutrition, on obtient ainsi un pourcentage plus representatifs de 12.8% de personnes en etat de sous-nutrition."
   ]
  },
  {
   "cell_type": "code",
   "execution_count": 5,
   "id": "a7094ec9",
   "metadata": {},
   "outputs": [
    {
     "data": {
      "text/html": [
       "7548.134111"
      ],
      "text/latex": [
       "7548.134111"
      ],
      "text/markdown": [
       "7548.134111"
      ],
      "text/plain": [
       "[1] 7548.134"
      ]
     },
     "metadata": {},
     "output_type": "display_data"
    }
   ],
   "source": [
    "tot_population_2017"
   ]
  },
  {
   "cell_type": "code",
   "execution_count": 6,
   "id": "e6af8a9b",
   "metadata": {},
   "outputs": [
    {
     "data": {
      "text/html": [
       "12.855"
      ],
      "text/latex": [
       "12.855"
      ],
      "text/markdown": [
       "12.855"
      ],
      "text/plain": [
       "[1] 12.855"
      ]
     },
     "metadata": {},
     "output_type": "display_data"
    }
   ],
   "source": [
    "tot_population_2017_B = sum(prop_sous_nutrition_2017$poptotal)/1000\n",
    "Proportion_nutrition = tot_valsousnutri/tot_population_2017_B\n",
    "round(Proportion_nutrition*100,3)"
   ]
  },
  {
   "cell_type": "code",
   "execution_count": 7,
   "id": "d96dbb23",
   "metadata": {},
   "outputs": [
    {
     "data": {
      "text/html": [
       "4182.831358"
      ],
      "text/latex": [
       "4182.831358"
      ],
      "text/markdown": [
       "4182.831358"
      ],
      "text/plain": [
       "[1] 4182.831"
      ]
     },
     "metadata": {},
     "output_type": "display_data"
    }
   ],
   "source": [
    "tot_population_2017_B"
   ]
  },
  {
   "cell_type": "code",
   "execution_count": 8,
   "id": "85c89d0e",
   "metadata": {
    "scrolled": true
   },
   "outputs": [
    {
     "data": {
      "text/html": [
       "537.7"
      ],
      "text/latex": [
       "537.7"
      ],
      "text/markdown": [
       "537.7"
      ],
      "text/plain": [
       "[1] 537.7"
      ]
     },
     "metadata": {},
     "output_type": "display_data"
    }
   ],
   "source": [
    "AA = Proportion_nutrition*tot_population_2017_B\n",
    "AA"
   ]
  },
  {
   "cell_type": "code",
   "execution_count": 9,
   "id": "481b810b",
   "metadata": {},
   "outputs": [
    {
     "data": {
      "text/html": [
       "0.0712361481781839"
      ],
      "text/latex": [
       "0.0712361481781839"
      ],
      "text/markdown": [
       "0.0712361481781839"
      ],
      "text/plain": [
       "[1] 0.07123615"
      ]
     },
     "metadata": {},
     "output_type": "display_data"
    }
   ],
   "source": [
    "AA/tot_population_2017"
   ]
  },
  {
   "cell_type": "markdown",
   "id": "d8bc40ac",
   "metadata": {},
   "source": [
    "### Le taux de personnes en etat de sous-nutrition est de 12,85%"
   ]
  },
  {
   "cell_type": "markdown",
   "id": "4756f74b",
   "metadata": {},
   "source": [
    "## 2) Nombre théorique de personnes qui pourraient être nourries <a name=\"Nombrethéoriquepersonnesnourries\"></a>"
   ]
  },
  {
   "cell_type": "markdown",
   "id": "f4c37a1b",
   "metadata": {},
   "source": [
    "Pour trouver le nombre theorique de personnes qui pourraient etre nourries, il est necessaire de definir un nombre de besoin calorique, la reference choisi ici est basee sur le besoin d'un homme adulte sur une annee."
   ]
  },
  {
   "cell_type": "code",
   "execution_count": 10,
   "id": "786ecf44",
   "metadata": {
    "scrolled": true
   },
   "outputs": [
    {
     "data": {
      "text/html": [
       "912500"
      ],
      "text/latex": [
       "912500"
      ],
      "text/markdown": [
       "912500"
      ],
      "text/plain": [
       "[1] 912500"
      ]
     },
     "metadata": {},
     "output_type": "display_data"
    }
   ],
   "source": [
    "RefCalorique= 2500*365\n",
    "RefCalorique"
   ]
  },
  {
   "cell_type": "markdown",
   "id": "25803595",
   "metadata": {},
   "source": [
    "On cherche ensuite a calculer le nombre théorique qui pourraient être nourries en multipliant la disponibilité alimentaire kcal sur un an et ensuite en divisant le produit de la disponibilité alimentaire et la population par notre référence calorique."
   ]
  },
  {
   "cell_type": "code",
   "execution_count": 11,
   "id": "7dd51b1b",
   "metadata": {},
   "outputs": [
    {
     "data": {
      "text/html": [
       "8367593851"
      ],
      "text/latex": [
       "8367593851"
      ],
      "text/markdown": [
       "8367593851"
      ],
      "text/plain": [
       "[1] 8367593851"
      ]
     },
     "metadata": {},
     "output_type": "display_data"
    }
   ],
   "source": [
    "nutrition = dispo_alimentaire[,c(1,3,6)]\n",
    "nutrition_theorique = aggregate(nutrition$Disponibilité.alimentaire..Kcal.personne.jour. , by=list(nutrition$Zone), FUN=sum, na.rm=TRUE)\n",
    "colnames(nutrition_theorique)[1]<-\"Zone\"\n",
    "colnames(nutrition_theorique)[2]<-\"Kcal\"\n",
    "\n",
    "nutrition_theorique = merge(population_2017, nutrition_theorique)\n",
    "colnames(nutrition_theorique)[3]=\"poptotal\"\n",
    "nutrition_theorique[\"Kcal\"] = nutrition_theorique$Kcal*365\n",
    "nutrition_theorique[\"PopTheo\"] = (nutrition_theorique$poptotal*nutrition_theorique$Kcal)/RefCalorique\n",
    "Population_theorique = round(sum(nutrition_theorique$PopTheo)*1000)\n",
    "Population_theorique"
   ]
  },
  {
   "cell_type": "code",
   "execution_count": 12,
   "id": "3933c4c6",
   "metadata": {},
   "outputs": [
    {
     "data": {
      "text/html": [
       "110.856"
      ],
      "text/latex": [
       "110.856"
      ],
      "text/markdown": [
       "110.856"
      ],
      "text/plain": [
       "[1] 110.856"
      ]
     },
     "metadata": {},
     "output_type": "display_data"
    }
   ],
   "source": [
    "round((Population_theorique/10^3)/sum(population_2017$poptotal)*100,3)"
   ]
  },
  {
   "cell_type": "markdown",
   "id": "1fd27450",
   "metadata": {},
   "source": [
    "### En 2017, 110% de la population pourraients etre nourries."
   ]
  },
  {
   "cell_type": "markdown",
   "id": "d0f05733",
   "metadata": {},
   "source": [
    "## 2.2) Nombre théorique de personnes qui pourraient être nourries avec des produits végétaux <a name=\"Nombrethéoriquepersonnesnourriesproduitsvégétaux\"></a>"
   ]
  },
  {
   "cell_type": "markdown",
   "id": "8d0b9ac8",
   "metadata": {},
   "source": [
    "Le processus pour trouver le nombre theorique de personnes qui pourraient etre nourries est similaire a l'etape precedente mais limiter aux produits vegetaux."
   ]
  },
  {
   "cell_type": "code",
   "execution_count": 13,
   "id": "4242524d",
   "metadata": {},
   "outputs": [
    {
     "data": {
      "text/html": [
       "6904305685"
      ],
      "text/latex": [
       "6904305685"
      ],
      "text/markdown": [
       "6904305685"
      ],
      "text/plain": [
       "[1] 6904305685"
      ]
     },
     "metadata": {},
     "output_type": "display_data"
    }
   ],
   "source": [
    "nutrition_vegetaux = dplyr::filter(nutrition, Origine==\"vegetale\")\n",
    "nutrition_vegetaux = aggregate(nutrition_vegetaux$Disponibilité.alimentaire..Kcal.personne.jour. , by=list(nutrition_vegetaux$Zone), FUN=sum, na.rm=TRUE)\n",
    "colnames(nutrition_vegetaux)[1]<-\"Zone\"\n",
    "colnames(nutrition_vegetaux)[2]<-\"Kcal\"\n",
    "nutrition_vegetaux = merge(population_2017, nutrition_vegetaux)\n",
    "colnames(nutrition_vegetaux)[3]=\"poptotal\"\n",
    "nutrition_vegetaux[\"Kcal\"] = nutrition_vegetaux$Kcal*365\n",
    "nutrition_vegetaux[\"PopTheo\"] = (nutrition_vegetaux$poptotal*nutrition_vegetaux$Kcal)/RefCalorique\n",
    "Total_nutrition_vegetaux = round(sum(nutrition_vegetaux$PopTheo)*1000)\n",
    "Total_nutrition_vegetaux"
   ]
  },
  {
   "cell_type": "code",
   "execution_count": 14,
   "id": "8359aae8",
   "metadata": {
    "scrolled": true
   },
   "outputs": [
    {
     "data": {
      "text/html": [
       "91.47"
      ],
      "text/latex": [
       "91.47"
      ],
      "text/markdown": [
       "91.47"
      ],
      "text/plain": [
       "[1] 91.47"
      ]
     },
     "metadata": {},
     "output_type": "display_data"
    }
   ],
   "source": [
    "round((Total_nutrition_vegetaux/10^3)/sum(population_2017$poptotal)*100,2)"
   ]
  },
  {
   "cell_type": "markdown",
   "id": "f235b56c",
   "metadata": {},
   "source": [
    "### En 2017, 91% de la population pourraients etre nourries avec des produits vegetaux."
   ]
  },
  {
   "cell_type": "markdown",
   "id": "7a4dc7d6",
   "metadata": {},
   "source": [
    "### Nombre théorique de personnes qui pourraient être nourries avec des produits animales <a name=\"Nombrethéoriquepersonnesnourriesproduitsanimales\"></a>"
   ]
  },
  {
   "cell_type": "code",
   "execution_count": 15,
   "id": "5625da48",
   "metadata": {
    "scrolled": true
   },
   "outputs": [
    {
     "data": {
      "text/html": [
       "1463288166"
      ],
      "text/latex": [
       "1463288166"
      ],
      "text/markdown": [
       "1463288166"
      ],
      "text/plain": [
       "[1] 1463288166"
      ]
     },
     "metadata": {},
     "output_type": "display_data"
    }
   ],
   "source": [
    "nutrition_animal = dplyr::filter(nutrition, Origine==\"animale\")\n",
    "nutrition_animal = aggregate(nutrition_animal$Disponibilité.alimentaire..Kcal.personne.jour., by=list(nutrition_animal$Zone), FUN=sum, na.rm=TRUE)\n",
    "colnames(nutrition_animal)[1]<-\"Zone\"\n",
    "colnames(nutrition_animal)[2]<-\"Kcal\"\n",
    "nutrition_animal = merge(population_2017, nutrition_animal)\n",
    "colnames(nutrition_animal)[3]=\"poptotal\"\n",
    "nutrition_animal[\"Kcal\"] = nutrition_animal$Kcal*365\n",
    "nutrition_animal[\"PopTheo\"] = (nutrition_animal$poptotal*nutrition_animal$Kcal)/RefCalorique\n",
    "Total_nutrition_animal = round(sum(nutrition_animal$PopTheo)*1000)\n",
    "Total_nutrition_animal"
   ]
  },
  {
   "cell_type": "code",
   "execution_count": 16,
   "id": "e5e4b18f",
   "metadata": {},
   "outputs": [
    {
     "data": {
      "text/html": [
       "19.39"
      ],
      "text/latex": [
       "19.39"
      ],
      "text/markdown": [
       "19.39"
      ],
      "text/plain": [
       "[1] 19.39"
      ]
     },
     "metadata": {},
     "output_type": "display_data"
    }
   ],
   "source": [
    "round((Total_nutrition_animal/10^3)/sum(population_2017$poptotal)*100,2)"
   ]
  },
  {
   "cell_type": "markdown",
   "id": "0c5a196b",
   "metadata": {},
   "source": [
    "### En 2017, 19% de la population pourraients etre nourries avec des produits vegetaux."
   ]
  },
  {
   "cell_type": "code",
   "execution_count": 17,
   "id": "87dc0da9",
   "metadata": {},
   "outputs": [
    {
     "data": {
      "image/png": "[encoded data removed]",
      "text/plain": [
       "plot without title"
      ]
     },
     "metadata": {},
     "output_type": "display_data"
    }
   ],
   "source": [
    "data_theo <- data.frame(Type=c(\"Mixte\",\"Vegetaux\",\"Animale\") ,Population=c(Population_theorique,Total_nutrition_vegetaux,Total_nutrition_animal))\n",
    "ggplot(data_theo, aes(x=Type, y=Population, fill=Type)) +\n",
    "    geom_bar(stat=\"identity\")+\n",
    "    geom_text(aes(label=Population), vjust=-0.3, size=3.5)+\n",
    "    theme_minimal()+\n",
    "geom_hline(yintercept=sum(population_2017$poptotal*10^3),  color = \"red\")"
   ]
  },
  {
   "cell_type": "markdown",
   "id": "caa6eee9",
   "metadata": {},
   "source": [
    "## 3) Utilisation de la disponibilité intérieure <a name=\"disponibiliteinterieure\"></a>"
   ]
  },
  {
   "cell_type": "markdown",
   "id": "4192220e",
   "metadata": {},
   "source": [
    "Equations de la disponibilite: Production\n",
    "Avec les debuts des recherches de Julien, on a peut trouver une partie de l'utilisation de la disponibilite interieure centralier sur le commerce par la formule:\n",
    "Importation - Exportations + Production + Variations des stocks"
   ]
  },
  {
   "cell_type": "code",
   "execution_count": 18,
   "id": "8f725def",
   "metadata": {},
   "outputs": [
    {
     "data": {
      "text/html": [
       "<table>\n",
       "<thead><tr><th scope=col>Zone</th><th scope=col>Importations</th><th scope=col>Exportations</th><th scope=col>Production</th><th scope=col>Variations</th><th scope=col>Disponibilité.intérieure</th><th scope=col>Total</th></tr></thead>\n",
       "<tbody>\n",
       "\t<tr><td>Afghanistan   </td><td> 2988         </td><td>  278         </td><td> 11171        </td><td> -368         </td><td> 13515        </td><td> 13513        </td></tr>\n",
       "\t<tr><td>Afrique du Sud</td><td> 7517         </td><td>11674         </td><td> 63263        </td><td> 2153         </td><td> 61256        </td><td> 61259        </td></tr>\n",
       "\t<tr><td>Albanie       </td><td>  933         </td><td>   94         </td><td>  3964        </td><td>  -45         </td><td>  4758        </td><td>  4758        </td></tr>\n",
       "\t<tr><td>Algérie       </td><td>17403         </td><td>  655         </td><td> 26359        </td><td> -479         </td><td> 42630        </td><td> 42628        </td></tr>\n",
       "\t<tr><td>Allemagne     </td><td>65353         </td><td>57431         </td><td>154547        </td><td> -192         </td><td>162275        </td><td>162277        </td></tr>\n",
       "\t<tr><td>Angola        </td><td> 4416         </td><td>   23         </td><td> 28857        </td><td>-1228         </td><td> 32029        </td><td> 32022        </td></tr>\n",
       "</tbody>\n",
       "</table>\n"
      ],
      "text/latex": [
       "\\begin{tabular}{r|lllllll}\n",
       " Zone & Importations & Exportations & Production & Variations & Disponibilité.intérieure & Total\\\\\n",
       "\\hline\n",
       "\t Afghanistan    &  2988          &   278          &  11171         &  -368          &  13515         &  13513        \\\\\n",
       "\t Afrique du Sud &  7517          & 11674          &  63263         &  2153          &  61256         &  61259        \\\\\n",
       "\t Albanie        &   933          &    94          &   3964         &   -45          &   4758         &   4758        \\\\\n",
       "\t Algérie        & 17403          &   655          &  26359         &  -479          &  42630         &  42628        \\\\\n",
       "\t Allemagne      & 65353          & 57431          & 154547         &  -192          & 162275         & 162277        \\\\\n",
       "\t Angola         &  4416          &    23          &  28857         & -1228          &  32029         &  32022        \\\\\n",
       "\\end{tabular}\n"
      ],
      "text/markdown": [
       "\n",
       "| Zone | Importations | Exportations | Production | Variations | Disponibilité.intérieure | Total |\n",
       "|---|---|---|---|---|---|---|\n",
       "| Afghanistan    |  2988          |   278          |  11171         |  -368          |  13515         |  13513         |\n",
       "| Afrique du Sud |  7517          | 11674          |  63263         |  2153          |  61256         |  61259         |\n",
       "| Albanie        |   933          |    94          |   3964         |   -45          |   4758         |   4758         |\n",
       "| Algérie        | 17403          |   655          |  26359         |  -479          |  42630         |  42628         |\n",
       "| Allemagne      | 65353          | 57431          | 154547         |  -192          | 162275         | 162277         |\n",
       "| Angola         |  4416          |    23          |  28857         | -1228          |  32029         |  32022         |\n",
       "\n"
      ],
      "text/plain": [
       "  Zone           Importations Exportations Production Variations\n",
       "1 Afghanistan     2988          278         11171      -368     \n",
       "2 Afrique du Sud  7517        11674         63263      2153     \n",
       "3 Albanie          933           94          3964       -45     \n",
       "4 Algérie        17403          655         26359      -479     \n",
       "5 Allemagne      65353        57431        154547      -192     \n",
       "6 Angola          4416           23         28857     -1228     \n",
       "  Disponibilité.intérieure Total \n",
       "1  13515                    13513\n",
       "2  61256                    61259\n",
       "3   4758                     4758\n",
       "4  42630                    42628\n",
       "5 162275                   162277\n",
       "6  32029                    32022"
      ]
     },
     "metadata": {},
     "output_type": "display_data"
    }
   ],
   "source": [
    "production_interieur = dispo_alimentaire[,c(1,10,11,12,15,18)]\n",
    "production_interieur = aggregate(cbind(production_interieur$Importations...Quantité, production_interieur$Exportations...Quantité,production_interieur$Production,production_interieur$Variation.de.stock, production_interieur$Disponibilité.intérieure) , by=list(production_interieur$Zone), FUN=sum, na.rm=TRUE)\n",
    "colnames(production_interieur)<-c(\"Zone\",\"Importations\",\"Exportations\", \"Production\", \"Variations\", \"Disponibilité.intérieure\")\n",
    "production_interieur[\"Total\"] = production_interieur$Importations-production_interieur$Exportations+production_interieur$Production+production_interieur$Variations\n",
    "head(production_interieur)"
   ]
  },
  {
   "cell_type": "markdown",
   "id": "7e5dccc2",
   "metadata": {},
   "source": [
    "Equations de la disponibilite: Alimentation:\n",
    "Aliments pour animaux + Autres utilisations + Nourriture + Pertes + Semences + Traitement"
   ]
  },
  {
   "cell_type": "code",
   "execution_count": 19,
   "id": "023aadf1",
   "metadata": {},
   "outputs": [
    {
     "data": {
      "text/html": [
       "<table>\n",
       "<thead><tr><th scope=col>Zone</th><th scope=col>Aliments pour animaux</th><th scope=col>Autres utilisations</th><th scope=col>Nourriture</th><th scope=col>Pertes</th><th scope=col>Semences</th><th scope=col>Traitement</th><th scope=col>Disponibilité.intérieure</th><th scope=col>Total</th></tr></thead>\n",
       "<tbody>\n",
       "\t<tr><td>Afghanistan   </td><td>  768         </td><td> 415          </td><td>10735         </td><td>1135          </td><td> 395          </td><td>   63         </td><td> 13515        </td><td> 13511        </td></tr>\n",
       "\t<tr><td>Afrique du Sud</td><td> 5309         </td><td> 876          </td><td>29812         </td><td>2193          </td><td> 253          </td><td>22819         </td><td> 61256        </td><td> 61262        </td></tr>\n",
       "\t<tr><td>Albanie       </td><td>  660         </td><td> 174          </td><td> 3476         </td><td> 276          </td><td>  55          </td><td>  113         </td><td>  4758        </td><td>  4754        </td></tr>\n",
       "\t<tr><td>Algérie       </td><td> 4352         </td><td>1707          </td><td>31729         </td><td>3753          </td><td> 449          </td><td>  637         </td><td> 42630        </td><td> 42627        </td></tr>\n",
       "\t<tr><td>Allemagne     </td><td>30209         </td><td>7711          </td><td>79238         </td><td>3781          </td><td>1551          </td><td>39842         </td><td>162275        </td><td>162332        </td></tr>\n",
       "\t<tr><td>Angola        </td><td> 9259         </td><td> 451          </td><td>15059         </td><td>4799          </td><td> 337          </td><td> 2121         </td><td> 32029        </td><td> 32026        </td></tr>\n",
       "</tbody>\n",
       "</table>\n"
      ],
      "text/latex": [
       "\\begin{tabular}{r|lllllllll}\n",
       " Zone & Aliments pour animaux & Autres utilisations & Nourriture & Pertes & Semences & Traitement & Disponibilité.intérieure & Total\\\\\n",
       "\\hline\n",
       "\t Afghanistan    &   768          &  415           & 10735          & 1135           &  395           &    63          &  13515         &  13511        \\\\\n",
       "\t Afrique du Sud &  5309          &  876           & 29812          & 2193           &  253           & 22819          &  61256         &  61262        \\\\\n",
       "\t Albanie        &   660          &  174           &  3476          &  276           &   55           &   113          &   4758         &   4754        \\\\\n",
       "\t Algérie        &  4352          & 1707           & 31729          & 3753           &  449           &   637          &  42630         &  42627        \\\\\n",
       "\t Allemagne      & 30209          & 7711           & 79238          & 3781           & 1551           & 39842          & 162275         & 162332        \\\\\n",
       "\t Angola         &  9259          &  451           & 15059          & 4799           &  337           &  2121          &  32029         &  32026        \\\\\n",
       "\\end{tabular}\n"
      ],
      "text/markdown": [
       "\n",
       "| Zone | Aliments pour animaux | Autres utilisations | Nourriture | Pertes | Semences | Traitement | Disponibilité.intérieure | Total |\n",
       "|---|---|---|---|---|---|---|---|---|\n",
       "| Afghanistan    |   768          |  415           | 10735          | 1135           |  395           |    63          |  13515         |  13511         |\n",
       "| Afrique du Sud |  5309          |  876           | 29812          | 2193           |  253           | 22819          |  61256         |  61262         |\n",
       "| Albanie        |   660          |  174           |  3476          |  276           |   55           |   113          |   4758         |   4754         |\n",
       "| Algérie        |  4352          | 1707           | 31729          | 3753           |  449           |   637          |  42630         |  42627         |\n",
       "| Allemagne      | 30209          | 7711           | 79238          | 3781           | 1551           | 39842          | 162275         | 162332         |\n",
       "| Angola         |  9259          |  451           | 15059          | 4799           |  337           |  2121          |  32029         |  32026         |\n",
       "\n"
      ],
      "text/plain": [
       "  Zone           Aliments pour animaux Autres utilisations Nourriture Pertes\n",
       "1 Afghanistan      768                  415                10735      1135  \n",
       "2 Afrique du Sud  5309                  876                29812      2193  \n",
       "3 Albanie          660                  174                 3476       276  \n",
       "4 Algérie         4352                 1707                31729      3753  \n",
       "5 Allemagne      30209                 7711                79238      3781  \n",
       "6 Angola          9259                  451                15059      4799  \n",
       "  Semences Traitement Disponibilité.intérieure Total \n",
       "1  395        63       13515                    13511\n",
       "2  253     22819       61256                    61262\n",
       "3   55       113        4758                     4754\n",
       "4  449       637       42630                    42627\n",
       "5 1551     39842      162275                   162332\n",
       "6  337      2121       32029                    32026"
      ]
     },
     "metadata": {},
     "output_type": "display_data"
    }
   ],
   "source": [
    "production_alimentaire = dispo_alimentaire[,c(1,4,5, 10,13,14,16,17)]\n",
    "production_alimentaire = aggregate.data.frame(cbind(production_alimentaire$Aliments.pour.animaux,production_alimentaire$Autres.Utilisations,production_alimentaire$Nourriture,production_alimentaire$Pertes,production_alimentaire$Semences,production_alimentaire$Traitement,production_alimentaire$Disponibilité.intérieure), by=list(production_alimentaire$Zone), FUN = sum, na.rm=TRUE)\n",
    "colnames(production_alimentaire)<-c(\"Zone\",\"Aliments pour animaux\", \"Autres utilisations\",\"Nourriture\", \"Pertes\", \"Semences\", \"Traitement\", \"Disponibilité.intérieure\")\n",
    "production_alimentaire[\"Total\"]= production_alimentaire$\"Aliments pour animaux\"+production_alimentaire$\"Autres utilisations\"+production_alimentaire$Nourriture+production_alimentaire$Pertes+production_alimentaire$Semences+production_alimentaire$Traitement\n",
    "head(production_alimentaire)"
   ]
  },
  {
   "cell_type": "markdown",
   "id": "a303ec1c",
   "metadata": {},
   "source": [
    "#### Part attribuée à l’alimentation animale  <a name=\"Partalimentationanimale\"></a>"
   ]
  },
  {
   "cell_type": "code",
   "execution_count": 20,
   "id": "0dbf4dac",
   "metadata": {},
   "outputs": [
    {
     "data": {
      "text/html": [
       "13.24"
      ],
      "text/latex": [
       "13.24"
      ],
      "text/markdown": [
       "13.24"
      ],
      "text/plain": [
       "[1] 13.24"
      ]
     },
     "metadata": {},
     "output_type": "display_data"
    }
   ],
   "source": [
    "utili_animale = round((sum(production_alimentaire$\"Aliments pour animaux\")/sum(production_alimentaire$Disponibilité.intérieure))*100, 2)\n",
    "utili_animale"
   ]
  },
  {
   "cell_type": "markdown",
   "id": "bba093db",
   "metadata": {},
   "source": [
    "#### Part attribuée à l’alimentation humaine  <a name=\"Partalimentationhumaine\"></a>"
   ]
  },
  {
   "cell_type": "code",
   "execution_count": 21,
   "id": "3d087c8f",
   "metadata": {},
   "outputs": [
    {
     "data": {
      "text/html": [
       "49.51"
      ],
      "text/latex": [
       "49.51"
      ],
      "text/markdown": [
       "49.51"
      ],
      "text/plain": [
       "[1] 49.51"
      ]
     },
     "metadata": {},
     "output_type": "display_data"
    }
   ],
   "source": [
    "utili_humaine = round((sum(production_alimentaire$Nourriture)/sum(production_alimentaire$Disponibilité.intérieure))*100, 2)\n",
    "utili_humaine"
   ]
  },
  {
   "cell_type": "markdown",
   "id": "60353772",
   "metadata": {},
   "source": [
    "#### Part attribuée perdue  <a name=\"Partalimentationperdue\"></a>"
   ]
  },
  {
   "cell_type": "code",
   "execution_count": 22,
   "id": "9ec9054a",
   "metadata": {},
   "outputs": [
    {
     "data": {
      "text/html": [
       "4.61"
      ],
      "text/latex": [
       "4.61"
      ],
      "text/markdown": [
       "4.61"
      ],
      "text/plain": [
       "[1] 4.61"
      ]
     },
     "metadata": {},
     "output_type": "display_data"
    }
   ],
   "source": [
    "utili_perte = round((sum(production_alimentaire$Pertes)/sum(production_alimentaire$Disponibilité.intérieure))*100,2)\n",
    "utili_perte"
   ]
  },
  {
   "cell_type": "code",
   "execution_count": 23,
   "id": "7252172b",
   "metadata": {},
   "outputs": [
    {
     "data": {
      "text/html": [
       "32.64"
      ],
      "text/latex": [
       "32.64"
      ],
      "text/markdown": [
       "32.64"
      ],
      "text/plain": [
       "[1] 32.64"
      ]
     },
     "metadata": {},
     "output_type": "display_data"
    }
   ],
   "source": [
    "autres = 100-utili_perte-utili_humaine-utili_animale\n",
    "autres"
   ]
  },
  {
   "cell_type": "code",
   "execution_count": 24,
   "id": "020dd8b7",
   "metadata": {},
   "outputs": [
    {
     "data": {
      "image/png": "[encoded data removed]",
      "text/plain": [
       "plot without title"
      ]
     },
     "metadata": {},
     "output_type": "display_data"
    }
   ],
   "source": [
    "data <- data.frame(Categorie=c(\"Animale\",\"Humaine\",\"Perte\",\"Autres\") ,value=c(utili_animale,utili_humaine,utili_perte,autres))\n",
    "\n",
    "data <- data %>% \n",
    "  arrange(desc(Categorie)) %>%\n",
    "  mutate(prop = value / sum(data$value) *100) %>%\n",
    "  mutate(ypos = cumsum(prop)- 0.5*prop )\n",
    "\n",
    "ggplot(data, aes(x=\"\", y=prop, fill=Categorie)) +\n",
    "  geom_bar(stat=\"identity\", width=1, color=\"white\") +\n",
    "  coord_polar(\"y\", start=0) +\n",
    "  theme_void() + \n",
    "  geom_text(aes(y = ypos, label = value), color = \"white\", size=6) +\n",
    "  scale_fill_brewer(palette=\"Set1\")"
   ]
  },
  {
   "cell_type": "markdown",
   "id": "9149d449",
   "metadata": {},
   "source": [
    "# Demandes de Mélanie <a name=\"DemandesMélanie\"></a>"
   ]
  },
  {
   "cell_type": "markdown",
   "id": "19675645",
   "metadata": {},
   "source": [
    "## Pays avec plus forts proportion sous alimentations en 2017 <a name=\"Paysfortsproportionsousalimentations2017\"></a>"
   ]
  },
  {
   "cell_type": "markdown",
   "id": "972b4f52",
   "metadata": {},
   "source": [
    "Pour ce calcul, on va omettre les pays pour lequels on a utiliser une valeur approximative de sous nutritition (<0.1) qui ne sont pas des figures officiellement recences et influe nos resultats."
   ]
  },
  {
   "cell_type": "code",
   "execution_count": 25,
   "id": "b4abdce4",
   "metadata": {},
   "outputs": [],
   "source": [
    "prop_sous_nutrition_2017B =merge(sous_nutrition_2017, population_2017, by=c(\"Zone\",\"Année\"))\n",
    "prop_sous_nutrition_2017B=prop_sous_nutrition_2017B[!(prop_sous_nutrition_2017B$val_sousnutri==\"<0.1\"),]\n",
    "prop_sous_nutrition_2017B$val_sousnutri = as.numeric(as.character(prop_sous_nutrition_2017B$val_sousnutri))\n",
    "prop_sous_nutrition_2017B =na.omit(prop_sous_nutrition_2017B)"
   ]
  },
  {
   "cell_type": "code",
   "execution_count": 26,
   "id": "15e3b3b1",
   "metadata": {},
   "outputs": [
    {
     "data": {
      "text/html": [
       "<table>\n",
       "<thead><tr><th></th><th scope=col>Zone</th><th scope=col>Année</th><th scope=col>val_sousnutri</th><th scope=col>poptotal</th><th scope=col>proportion</th></tr></thead>\n",
       "<tbody>\n",
       "\t<tr><th scope=row>79</th><td>Haïti                                     </td><td>2017                                      </td><td> 5.3                                      </td><td>10982.366                                 </td><td>0.4825918                                 </td></tr>\n",
       "\t<tr><th scope=row>159</th><td>République populaire démocratique de Corée</td><td>2017                                      </td><td>12.0                                      </td><td>25429.825                                 </td><td>0.4718868                                 </td></tr>\n",
       "\t<tr><th scope=row>109</th><td>Madagascar                                </td><td>2017                                      </td><td>10.5                                      </td><td>25570.512                                 </td><td>0.4106292                                 </td></tr>\n",
       "\t<tr><th scope=row>104</th><td>Libéria                                   </td><td>2017                                      </td><td> 1.8                                      </td><td> 4702.226                                 </td><td>0.3827974                                 </td></tr>\n",
       "\t<tr><th scope=row>101</th><td>Lesotho                                   </td><td>2017                                      </td><td> 0.8                                      </td><td> 2091.534                                 </td><td>0.3824944                                 </td></tr>\n",
       "\t<tr><th scope=row>184</th><td>Tchad                                     </td><td>2017                                      </td><td> 5.7                                      </td><td>15016.753                                 </td><td>0.3795761                                 </td></tr>\n",
       "\t<tr><th scope=row>162</th><td>Rwanda                                    </td><td>2017                                      </td><td> 4.2                                      </td><td>11980.961                                 </td><td>0.3505562                                 </td></tr>\n",
       "\t<tr><th scope=row>122</th><td>Mozambique                                </td><td>2017                                      </td><td> 9.4                                      </td><td>28649.018                                 </td><td>0.3281090                                 </td></tr>\n",
       "\t<tr><th scope=row>187</th><td>Timor-Leste                               </td><td>2017                                      </td><td> 0.4                                      </td><td> 1243.258                                 </td><td>0.3217353                                 </td></tr>\n",
       "\t<tr><th scope=row>1</th><td>Afghanistan                               </td><td>2017                                      </td><td>10.5                                      </td><td>36296.113                                 </td><td>0.2892872                                 </td></tr>\n",
       "\t<tr><th scope=row>45</th><td>Congo                                     </td><td>2017                                      </td><td> 1.4                                      </td><td> 5110.695                                 </td><td>0.2739353                                 </td></tr>\n",
       "\t<tr><th scope=row>199</th><td>Venezuela (République bolivarienne du)    </td><td>2017                                      </td><td> 8.0                                      </td><td>29402.484                                 </td><td>0.2720859                                 </td></tr>\n",
       "\t<tr><th scope=row>172</th><td>Sierra Leone                              </td><td>2017                                      </td><td> 2.0                                      </td><td> 7488.423                                 </td><td>0.2670789                                 </td></tr>\n",
       "\t<tr><th scope=row>151</th><td>République-Unie de Tanzanie               </td><td>2017                                      </td><td>13.4                                      </td><td>54660.339                                 </td><td>0.2451503                                 </td></tr>\n",
       "\t<tr><th scope=row>88</th><td>Iraq                                      </td><td>2017                                      </td><td> 9.0                                      </td><td>37552.781                                 </td><td>0.2396627                                 </td></tr>\n",
       "</tbody>\n",
       "</table>\n"
      ],
      "text/latex": [
       "\\begin{tabular}{r|lllll}\n",
       "  & Zone & Année & val\\_sousnutri & poptotal & proportion\\\\\n",
       "\\hline\n",
       "\t79 & Haïti                                      & 2017                                       &  5.3                                       & 10982.366                                  & 0.4825918                                 \\\\\n",
       "\t159 & République populaire démocratique de Corée & 2017                                       & 12.0                                       & 25429.825                                  & 0.4718868                                 \\\\\n",
       "\t109 & Madagascar                                 & 2017                                       & 10.5                                       & 25570.512                                  & 0.4106292                                 \\\\\n",
       "\t104 & Libéria                                    & 2017                                       &  1.8                                       &  4702.226                                  & 0.3827974                                 \\\\\n",
       "\t101 & Lesotho                                    & 2017                                       &  0.8                                       &  2091.534                                  & 0.3824944                                 \\\\\n",
       "\t184 & Tchad                                      & 2017                                       &  5.7                                       & 15016.753                                  & 0.3795761                                 \\\\\n",
       "\t162 & Rwanda                                     & 2017                                       &  4.2                                       & 11980.961                                  & 0.3505562                                 \\\\\n",
       "\t122 & Mozambique                                 & 2017                                       &  9.4                                       & 28649.018                                  & 0.3281090                                 \\\\\n",
       "\t187 & Timor-Leste                                & 2017                                       &  0.4                                       &  1243.258                                  & 0.3217353                                 \\\\\n",
       "\t1 & Afghanistan                                & 2017                                       & 10.5                                       & 36296.113                                  & 0.2892872                                 \\\\\n",
       "\t45 & Congo                                      & 2017                                       &  1.4                                       &  5110.695                                  & 0.2739353                                 \\\\\n",
       "\t199 & Venezuela (République bolivarienne du)     & 2017                                       &  8.0                                       & 29402.484                                  & 0.2720859                                 \\\\\n",
       "\t172 & Sierra Leone                               & 2017                                       &  2.0                                       &  7488.423                                  & 0.2670789                                 \\\\\n",
       "\t151 & République-Unie de Tanzanie                & 2017                                       & 13.4                                       & 54660.339                                  & 0.2451503                                 \\\\\n",
       "\t88 & Iraq                                       & 2017                                       &  9.0                                       & 37552.781                                  & 0.2396627                                 \\\\\n",
       "\\end{tabular}\n"
      ],
      "text/markdown": [
       "\n",
       "| <!--/--> | Zone | Année | val_sousnutri | poptotal | proportion |\n",
       "|---|---|---|---|---|---|\n",
       "| 79 | Haïti                                      | 2017                                       |  5.3                                       | 10982.366                                  | 0.4825918                                  |\n",
       "| 159 | République populaire démocratique de Corée | 2017                                       | 12.0                                       | 25429.825                                  | 0.4718868                                  |\n",
       "| 109 | Madagascar                                 | 2017                                       | 10.5                                       | 25570.512                                  | 0.4106292                                  |\n",
       "| 104 | Libéria                                    | 2017                                       |  1.8                                       |  4702.226                                  | 0.3827974                                  |\n",
       "| 101 | Lesotho                                    | 2017                                       |  0.8                                       |  2091.534                                  | 0.3824944                                  |\n",
       "| 184 | Tchad                                      | 2017                                       |  5.7                                       | 15016.753                                  | 0.3795761                                  |\n",
       "| 162 | Rwanda                                     | 2017                                       |  4.2                                       | 11980.961                                  | 0.3505562                                  |\n",
       "| 122 | Mozambique                                 | 2017                                       |  9.4                                       | 28649.018                                  | 0.3281090                                  |\n",
       "| 187 | Timor-Leste                                | 2017                                       |  0.4                                       |  1243.258                                  | 0.3217353                                  |\n",
       "| 1 | Afghanistan                                | 2017                                       | 10.5                                       | 36296.113                                  | 0.2892872                                  |\n",
       "| 45 | Congo                                      | 2017                                       |  1.4                                       |  5110.695                                  | 0.2739353                                  |\n",
       "| 199 | Venezuela (République bolivarienne du)     | 2017                                       |  8.0                                       | 29402.484                                  | 0.2720859                                  |\n",
       "| 172 | Sierra Leone                               | 2017                                       |  2.0                                       |  7488.423                                  | 0.2670789                                  |\n",
       "| 151 | République-Unie de Tanzanie                | 2017                                       | 13.4                                       | 54660.339                                  | 0.2451503                                  |\n",
       "| 88 | Iraq                                       | 2017                                       |  9.0                                       | 37552.781                                  | 0.2396627                                  |\n",
       "\n"
      ],
      "text/plain": [
       "    Zone                                       Année val_sousnutri poptotal \n",
       "79  Haïti                                      2017   5.3          10982.366\n",
       "159 République populaire démocratique de Corée 2017  12.0          25429.825\n",
       "109 Madagascar                                 2017  10.5          25570.512\n",
       "104 Libéria                                    2017   1.8           4702.226\n",
       "101 Lesotho                                    2017   0.8           2091.534\n",
       "184 Tchad                                      2017   5.7          15016.753\n",
       "162 Rwanda                                     2017   4.2          11980.961\n",
       "122 Mozambique                                 2017   9.4          28649.018\n",
       "187 Timor-Leste                                2017   0.4           1243.258\n",
       "1   Afghanistan                                2017  10.5          36296.113\n",
       "45  Congo                                      2017   1.4           5110.695\n",
       "199 Venezuela (République bolivarienne du)     2017   8.0          29402.484\n",
       "172 Sierra Leone                               2017   2.0           7488.423\n",
       "151 République-Unie de Tanzanie                2017  13.4          54660.339\n",
       "88  Iraq                                       2017   9.0          37552.781\n",
       "    proportion\n",
       "79  0.4825918 \n",
       "159 0.4718868 \n",
       "109 0.4106292 \n",
       "104 0.3827974 \n",
       "101 0.3824944 \n",
       "184 0.3795761 \n",
       "162 0.3505562 \n",
       "122 0.3281090 \n",
       "187 0.3217353 \n",
       "1   0.2892872 \n",
       "45  0.2739353 \n",
       "199 0.2720859 \n",
       "172 0.2670789 \n",
       "151 0.2451503 \n",
       "88  0.2396627 "
      ]
     },
     "metadata": {},
     "output_type": "display_data"
    }
   ],
   "source": [
    "prop_sous_nutrition_2017B['proportion']= prop_sous_nutrition_2017B$val_sousnutri/(prop_sous_nutrition_2017B$poptotal/1000)\n",
    "toppays_sous_nutri = prop_sous_nutrition_2017B\n",
    "toppays_sous_nutri = prop_sous_nutrition_2017B[order(-prop_sous_nutrition_2017B$proportion),]\n",
    "head(toppays_sous_nutri, 15) "
   ]
  },
  {
   "cell_type": "markdown",
   "id": "70a757fa",
   "metadata": {},
   "source": [
    "## Pays qui ont le plus bénéficié d’aide depuis 2013 <a name=\"Paysfortaide2013\"></a>"
   ]
  },
  {
   "cell_type": "markdown",
   "id": "c49bac6e",
   "metadata": {},
   "source": [
    "Une partie des questions melanie sont sur l'annee 2013 donc je vaiis de nouveaux calculer la population:"
   ]
  },
  {
   "cell_type": "code",
   "execution_count": 27,
   "id": "9c3aec8c",
   "metadata": {},
   "outputs": [],
   "source": [
    "population_2013 = dplyr::filter(population, Année == 2013)\n",
    "colnames(population_2013)[3]<-'poptotal'"
   ]
  },
  {
   "cell_type": "code",
   "execution_count": 28,
   "id": "333091df",
   "metadata": {},
   "outputs": [
    {
     "data": {
      "text/html": [
       "<table>\n",
       "<thead><tr><th></th><th scope=col>Zone</th><th scope=col>Aides</th></tr></thead>\n",
       "<tbody>\n",
       "\t<tr><th scope=row>54</th><td>République arabe syrienne                 </td><td>1858943                                   </td></tr>\n",
       "\t<tr><th scope=row>22</th><td>Éthiopie                                  </td><td>1381294                                   </td></tr>\n",
       "\t<tr><th scope=row>74</th><td>Yémen                                     </td><td>1206484                                   </td></tr>\n",
       "\t<tr><th scope=row>66</th><td>Soudan du Sud                             </td><td> 695248                                   </td></tr>\n",
       "\t<tr><th scope=row>65</th><td>Soudan                                    </td><td> 669784                                   </td></tr>\n",
       "\t<tr><th scope=row>34</th><td>Kenya                                     </td><td> 552836                                   </td></tr>\n",
       "\t<tr><th scope=row>4</th><td>Bangladesh                                </td><td> 348188                                   </td></tr>\n",
       "\t<tr><th scope=row>64</th><td>Somalie                                   </td><td> 292678                                   </td></tr>\n",
       "\t<tr><th scope=row>56</th><td>République démocratique du Congo          </td><td> 288502                                   </td></tr>\n",
       "\t<tr><th scope=row>48</th><td>Niger                                     </td><td> 276344                                   </td></tr>\n",
       "\t<tr><th scope=row>70</th><td>Tchad                                     </td><td> 267966                                   </td></tr>\n",
       "\t<tr><th scope=row>50</th><td>Pakistan                                  </td><td> 231072                                   </td></tr>\n",
       "\t<tr><th scope=row>59</th><td>République populaire démocratique de Corée</td><td> 187412                                   </td></tr>\n",
       "\t<tr><th scope=row>1</th><td>Afghanistan                               </td><td> 185452                                   </td></tr>\n",
       "\t<tr><th scope=row>53</th><td>République-Unie de Tanzanie               </td><td> 172022                                   </td></tr>\n",
       "\t<tr><th scope=row>52</th><td>Philippines                               </td><td> 171722                                   </td></tr>\n",
       "\t<tr><th scope=row>51</th><td>Palestine                                 </td><td> 169684                                   </td></tr>\n",
       "\t<tr><th scope=row>42</th><td>Mali                                      </td><td> 149586                                   </td></tr>\n",
       "\t<tr><th scope=row>29</th><td>Haïti                                     </td><td> 116450                                   </td></tr>\n",
       "\t<tr><th scope=row>47</th><td>Nicaragua                                 </td><td> 115332                                   </td></tr>\n",
       "</tbody>\n",
       "</table>\n"
      ],
      "text/latex": [
       "\\begin{tabular}{r|ll}\n",
       "  & Zone & Aides\\\\\n",
       "\\hline\n",
       "\t54 & République arabe syrienne                  & 1858943                                   \\\\\n",
       "\t22 & Éthiopie                                   & 1381294                                   \\\\\n",
       "\t74 & Yémen                                      & 1206484                                   \\\\\n",
       "\t66 & Soudan du Sud                              &  695248                                   \\\\\n",
       "\t65 & Soudan                                     &  669784                                   \\\\\n",
       "\t34 & Kenya                                      &  552836                                   \\\\\n",
       "\t4 & Bangladesh                                 &  348188                                   \\\\\n",
       "\t64 & Somalie                                    &  292678                                   \\\\\n",
       "\t56 & République démocratique du Congo           &  288502                                   \\\\\n",
       "\t48 & Niger                                      &  276344                                   \\\\\n",
       "\t70 & Tchad                                      &  267966                                   \\\\\n",
       "\t50 & Pakistan                                   &  231072                                   \\\\\n",
       "\t59 & République populaire démocratique de Corée &  187412                                   \\\\\n",
       "\t1 & Afghanistan                                &  185452                                   \\\\\n",
       "\t53 & République-Unie de Tanzanie                &  172022                                   \\\\\n",
       "\t52 & Philippines                                &  171722                                   \\\\\n",
       "\t51 & Palestine                                  &  169684                                   \\\\\n",
       "\t42 & Mali                                       &  149586                                   \\\\\n",
       "\t29 & Haïti                                      &  116450                                   \\\\\n",
       "\t47 & Nicaragua                                  &  115332                                   \\\\\n",
       "\\end{tabular}\n"
      ],
      "text/markdown": [
       "\n",
       "| <!--/--> | Zone | Aides |\n",
       "|---|---|---|\n",
       "| 54 | République arabe syrienne                  | 1858943                                    |\n",
       "| 22 | Éthiopie                                   | 1381294                                    |\n",
       "| 74 | Yémen                                      | 1206484                                    |\n",
       "| 66 | Soudan du Sud                              |  695248                                    |\n",
       "| 65 | Soudan                                     |  669784                                    |\n",
       "| 34 | Kenya                                      |  552836                                    |\n",
       "| 4 | Bangladesh                                 |  348188                                    |\n",
       "| 64 | Somalie                                    |  292678                                    |\n",
       "| 56 | République démocratique du Congo           |  288502                                    |\n",
       "| 48 | Niger                                      |  276344                                    |\n",
       "| 70 | Tchad                                      |  267966                                    |\n",
       "| 50 | Pakistan                                   |  231072                                    |\n",
       "| 59 | République populaire démocratique de Corée |  187412                                    |\n",
       "| 1 | Afghanistan                                |  185452                                    |\n",
       "| 53 | République-Unie de Tanzanie                |  172022                                    |\n",
       "| 52 | Philippines                                |  171722                                    |\n",
       "| 51 | Palestine                                  |  169684                                    |\n",
       "| 42 | Mali                                       |  149586                                    |\n",
       "| 29 | Haïti                                      |  116450                                    |\n",
       "| 47 | Nicaragua                                  |  115332                                    |\n",
       "\n"
      ],
      "text/plain": [
       "   Zone                                       Aides  \n",
       "54 République arabe syrienne                  1858943\n",
       "22 Éthiopie                                   1381294\n",
       "74 Yémen                                      1206484\n",
       "66 Soudan du Sud                               695248\n",
       "65 Soudan                                      669784\n",
       "34 Kenya                                       552836\n",
       "4  Bangladesh                                  348188\n",
       "64 Somalie                                     292678\n",
       "56 République démocratique du Congo            288502\n",
       "48 Niger                                       276344\n",
       "70 Tchad                                       267966\n",
       "50 Pakistan                                    231072\n",
       "59 République populaire démocratique de Corée  187412\n",
       "1  Afghanistan                                 185452\n",
       "53 République-Unie de Tanzanie                 172022\n",
       "52 Philippines                                 171722\n",
       "51 Palestine                                   169684\n",
       "42 Mali                                        149586\n",
       "29 Haïti                                       116450\n",
       "47 Nicaragua                                   115332"
      ]
     },
     "metadata": {},
     "output_type": "display_data"
    }
   ],
   "source": [
    "Aides_2013= aggregate(aide_alimentaire$Valeur, by=list(aide_alimentaire$Pays.bénéficiaire), FUN=sum)\n",
    "colnames(Aides_2013)[1]<-\"Zone\"\n",
    "colnames(Aides_2013)[2]<-\"Aides\"\n",
    "Aides_2013=Aides_2013[order(-Aides_2013$Aides),]\n",
    "head(Aides_2013, 20)"
   ]
  },
  {
   "cell_type": "markdown",
   "id": "4d80c7bc",
   "metadata": {},
   "source": [
    "## Pays ayant le plus de disponibilite/habitant <a name=\"Paysfortdisponibilite/habitant\"></a>"
   ]
  },
  {
   "cell_type": "code",
   "execution_count": 29,
   "id": "a344fa29",
   "metadata": {
    "scrolled": false
   },
   "outputs": [],
   "source": [
    "Dispo_Int = dispo_alimentaire[, c(\"Zone\", \"Disponibilité.alimentaire..Kcal.personne.jour.\")]\n",
    "Dispo_Int = aggregate(Dispo_Int$Disponibilité.alimentaire..Kcal.personne.jour., by=list(Dispo_Int$Zone), FUN=sum, na.rm=TRUE)\n",
    "colnames(Dispo_Int)[1]=\"Zone\"\n",
    "colnames(Dispo_Int)[2]=\"Disponibilite\"\n",
    "\n",
    "#Enfin pour les ordonner:"
   ]
  },
  {
   "cell_type": "code",
   "execution_count": 30,
   "id": "f3b608ec",
   "metadata": {},
   "outputs": [
    {
     "data": {
      "text/html": [
       "<table>\n",
       "<thead><tr><th></th><th scope=col>Zone</th><th scope=col>Disponibilite</th></tr></thead>\n",
       "<tbody>\n",
       "\t<tr><th scope=row>12</th><td>Autriche             </td><td>3770                 </td></tr>\n",
       "\t<tr><th scope=row>18</th><td>Belgique             </td><td>3737                 </td></tr>\n",
       "\t<tr><th scope=row>166</th><td>Turquie              </td><td>3708                 </td></tr>\n",
       "\t<tr><th scope=row>55</th><td>États-Unis d'Amérique</td><td>3682                 </td></tr>\n",
       "\t<tr><th scope=row>81</th><td>Israël               </td><td>3610                 </td></tr>\n",
       "\t<tr><th scope=row>79</th><td>Irlande              </td><td>3602                 </td></tr>\n",
       "\t<tr><th scope=row>82</th><td>Italie               </td><td>3578                 </td></tr>\n",
       "\t<tr><th scope=row>96</th><td>Luxembourg           </td><td>3540                 </td></tr>\n",
       "\t<tr><th scope=row>48</th><td>Égypte               </td><td>3518                 </td></tr>\n",
       "\t<tr><th scope=row>5</th><td>Allemagne            </td><td>3503                 </td></tr>\n",
       "</tbody>\n",
       "</table>\n"
      ],
      "text/latex": [
       "\\begin{tabular}{r|ll}\n",
       "  & Zone & Disponibilite\\\\\n",
       "\\hline\n",
       "\t12 & Autriche              & 3770                 \\\\\n",
       "\t18 & Belgique              & 3737                 \\\\\n",
       "\t166 & Turquie               & 3708                 \\\\\n",
       "\t55 & États-Unis d'Amérique & 3682                 \\\\\n",
       "\t81 & Israël                & 3610                 \\\\\n",
       "\t79 & Irlande               & 3602                 \\\\\n",
       "\t82 & Italie                & 3578                 \\\\\n",
       "\t96 & Luxembourg            & 3540                 \\\\\n",
       "\t48 & Égypte                & 3518                 \\\\\n",
       "\t5 & Allemagne             & 3503                 \\\\\n",
       "\\end{tabular}\n"
      ],
      "text/markdown": [
       "\n",
       "| <!--/--> | Zone | Disponibilite |\n",
       "|---|---|---|\n",
       "| 12 | Autriche              | 3770                  |\n",
       "| 18 | Belgique              | 3737                  |\n",
       "| 166 | Turquie               | 3708                  |\n",
       "| 55 | États-Unis d'Amérique | 3682                  |\n",
       "| 81 | Israël                | 3610                  |\n",
       "| 79 | Irlande               | 3602                  |\n",
       "| 82 | Italie                | 3578                  |\n",
       "| 96 | Luxembourg            | 3540                  |\n",
       "| 48 | Égypte                | 3518                  |\n",
       "| 5 | Allemagne             | 3503                  |\n",
       "\n"
      ],
      "text/plain": [
       "    Zone                  Disponibilite\n",
       "12  Autriche              3770         \n",
       "18  Belgique              3737         \n",
       "166 Turquie               3708         \n",
       "55  États-Unis d'Amérique 3682         \n",
       "81  Israël                3610         \n",
       "79  Irlande               3602         \n",
       "82  Italie                3578         \n",
       "96  Luxembourg            3540         \n",
       "48  Égypte                3518         \n",
       "5   Allemagne             3503         "
      ]
     },
     "metadata": {},
     "output_type": "display_data"
    }
   ],
   "source": [
    "head(Dispo_Int[order(-Dispo_Int$Disponibilite),],10)"
   ]
  },
  {
   "cell_type": "markdown",
   "id": "2fdd7562",
   "metadata": {},
   "source": [
    "## Pays ayant le moins de disponibilite/habitant <a name=\"Paysfaiblesdisponibilite/habitant\"></a>"
   ]
  },
  {
   "cell_type": "code",
   "execution_count": 31,
   "id": "02b5e2fd",
   "metadata": {},
   "outputs": [
    {
     "data": {
      "text/html": [
       "<table>\n",
       "<thead><tr><th></th><th scope=col>Zone</th><th scope=col>Disponibilite</th></tr></thead>\n",
       "<tbody>\n",
       "\t<tr><th scope=row>133</th><td>République centrafricaine                 </td><td>1879                                      </td></tr>\n",
       "\t<tr><th scope=row>173</th><td>Zambie                                    </td><td>1924                                      </td></tr>\n",
       "\t<tr><th scope=row>98</th><td>Madagascar                                </td><td>2056                                      </td></tr>\n",
       "\t<tr><th scope=row>1</th><td>Afghanistan                               </td><td>2087                                      </td></tr>\n",
       "\t<tr><th scope=row>71</th><td>Haïti                                     </td><td>2089                                      </td></tr>\n",
       "\t<tr><th scope=row>138</th><td>République populaire démocratique de Corée</td><td>2093                                      </td></tr>\n",
       "\t<tr><th scope=row>158</th><td>Tchad                                     </td><td>2109                                      </td></tr>\n",
       "\t<tr><th scope=row>174</th><td>Zimbabwe                                  </td><td>2113                                      </td></tr>\n",
       "\t<tr><th scope=row>121</th><td>Ouganda                                   </td><td>2126                                      </td></tr>\n",
       "\t<tr><th scope=row>56</th><td>Éthiopie                                  </td><td>2129                                      </td></tr>\n",
       "</tbody>\n",
       "</table>\n"
      ],
      "text/latex": [
       "\\begin{tabular}{r|ll}\n",
       "  & Zone & Disponibilite\\\\\n",
       "\\hline\n",
       "\t133 & République centrafricaine                  & 1879                                      \\\\\n",
       "\t173 & Zambie                                     & 1924                                      \\\\\n",
       "\t98 & Madagascar                                 & 2056                                      \\\\\n",
       "\t1 & Afghanistan                                & 2087                                      \\\\\n",
       "\t71 & Haïti                                      & 2089                                      \\\\\n",
       "\t138 & République populaire démocratique de Corée & 2093                                      \\\\\n",
       "\t158 & Tchad                                      & 2109                                      \\\\\n",
       "\t174 & Zimbabwe                                   & 2113                                      \\\\\n",
       "\t121 & Ouganda                                    & 2126                                      \\\\\n",
       "\t56 & Éthiopie                                   & 2129                                      \\\\\n",
       "\\end{tabular}\n"
      ],
      "text/markdown": [
       "\n",
       "| <!--/--> | Zone | Disponibilite |\n",
       "|---|---|---|\n",
       "| 133 | République centrafricaine                  | 1879                                       |\n",
       "| 173 | Zambie                                     | 1924                                       |\n",
       "| 98 | Madagascar                                 | 2056                                       |\n",
       "| 1 | Afghanistan                                | 2087                                       |\n",
       "| 71 | Haïti                                      | 2089                                       |\n",
       "| 138 | République populaire démocratique de Corée | 2093                                       |\n",
       "| 158 | Tchad                                      | 2109                                       |\n",
       "| 174 | Zimbabwe                                   | 2113                                       |\n",
       "| 121 | Ouganda                                    | 2126                                       |\n",
       "| 56 | Éthiopie                                   | 2129                                       |\n",
       "\n"
      ],
      "text/plain": [
       "    Zone                                       Disponibilite\n",
       "133 République centrafricaine                  1879         \n",
       "173 Zambie                                     1924         \n",
       "98  Madagascar                                 2056         \n",
       "1   Afghanistan                                2087         \n",
       "71  Haïti                                      2089         \n",
       "138 République populaire démocratique de Corée 2093         \n",
       "158 Tchad                                      2109         \n",
       "174 Zimbabwe                                   2113         \n",
       "121 Ouganda                                    2126         \n",
       "56  Éthiopie                                   2129         "
      ]
     },
     "metadata": {},
     "output_type": "display_data"
    }
   ],
   "source": [
    "head(Dispo_Int[order(Dispo_Int$Disponibilite),],10)"
   ]
  },
  {
   "cell_type": "markdown",
   "id": "601fca29",
   "metadata": {},
   "source": [
    "# Observations de Julien <a name=\"ObservationsJulien\"></a>"
   ]
  },
  {
   "cell_type": "markdown",
   "id": "332a1d06",
   "metadata": {},
   "source": [
    "## Utilisations du Cereal <a name=\"UtilisationsCereal\"></a>"
   ]
  },
  {
   "cell_type": "code",
   "execution_count": 32,
   "id": "96622db1",
   "metadata": {
    "scrolled": true
   },
   "outputs": [
    {
     "data": {
      "text/html": [
       "<table>\n",
       "<thead><tr><th scope=col>Zone</th><th scope=col>Produit</th><th scope=col>Aliments.pour.animaux</th><th scope=col>Disponibilité.intérieure</th><th scope=col>Nourriture</th></tr></thead>\n",
       "<tbody>\n",
       "\t<tr><td>Afghanistan     </td><td>Blé             </td><td> NA             </td><td>5992            </td><td>4895            </td></tr>\n",
       "\t<tr><td>Afghanistan     </td><td>Céréales, Autres</td><td> NA             </td><td>   0            </td><td>   0            </td></tr>\n",
       "\t<tr><td>Afghanistan     </td><td>Maïs            </td><td>200             </td><td> 313            </td><td>  76            </td></tr>\n",
       "\t<tr><td>Afghanistan     </td><td>Millet          </td><td> NA             </td><td>  13            </td><td>  12            </td></tr>\n",
       "\t<tr><td>Afghanistan     </td><td>Orge            </td><td>360             </td><td> 524            </td><td>  89            </td></tr>\n",
       "\t<tr><td>Afghanistan     </td><td>Riz (Eq Blanchi)</td><td> NA             </td><td> 461            </td><td> 422            </td></tr>\n",
       "</tbody>\n",
       "</table>\n"
      ],
      "text/latex": [
       "\\begin{tabular}{r|lllll}\n",
       " Zone & Produit & Aliments.pour.animaux & Disponibilité.intérieure & Nourriture\\\\\n",
       "\\hline\n",
       "\t Afghanistan      & Blé              &  NA              & 5992             & 4895            \\\\\n",
       "\t Afghanistan      & Céréales, Autres &  NA              &    0             &    0            \\\\\n",
       "\t Afghanistan      & Maïs             & 200              &  313             &   76            \\\\\n",
       "\t Afghanistan      & Millet           &  NA              &   13             &   12            \\\\\n",
       "\t Afghanistan      & Orge             & 360              &  524             &   89            \\\\\n",
       "\t Afghanistan      & Riz (Eq Blanchi) &  NA              &  461             &  422            \\\\\n",
       "\\end{tabular}\n"
      ],
      "text/markdown": [
       "\n",
       "| Zone | Produit | Aliments.pour.animaux | Disponibilité.intérieure | Nourriture |\n",
       "|---|---|---|---|---|\n",
       "| Afghanistan      | Blé              |  NA              | 5992             | 4895             |\n",
       "| Afghanistan      | Céréales, Autres |  NA              |    0             |    0             |\n",
       "| Afghanistan      | Maïs             | 200              |  313             |   76             |\n",
       "| Afghanistan      | Millet           |  NA              |   13             |   12             |\n",
       "| Afghanistan      | Orge             | 360              |  524             |   89             |\n",
       "| Afghanistan      | Riz (Eq Blanchi) |  NA              |  461             |  422             |\n",
       "\n"
      ],
      "text/plain": [
       "  Zone        Produit          Aliments.pour.animaux Disponibilité.intérieure\n",
       "1 Afghanistan Blé               NA                   5992                    \n",
       "2 Afghanistan Céréales, Autres  NA                      0                    \n",
       "3 Afghanistan Maïs             200                    313                    \n",
       "4 Afghanistan Millet            NA                     13                    \n",
       "5 Afghanistan Orge             360                    524                    \n",
       "6 Afghanistan Riz (Eq Blanchi)  NA                    461                    \n",
       "  Nourriture\n",
       "1 4895      \n",
       "2    0      \n",
       "3   76      \n",
       "4   12      \n",
       "5   89      \n",
       "6  422      "
      ]
     },
     "metadata": {},
     "output_type": "display_data"
    }
   ],
   "source": [
    "util_cereal = dispo_alimentaire[,c(1,2,4,10, 13)]\n",
    "util_cereal <- filter(util_cereal,Produit %in% cereal$Produit)\n",
    "head(util_cereal)"
   ]
  },
  {
   "cell_type": "code",
   "execution_count": 33,
   "id": "b3c25e11",
   "metadata": {},
   "outputs": [
    {
     "data": {
      "text/html": [
       "<table>\n",
       "<thead><tr><th scope=col>Zone</th><th scope=col>Aliments pour animaux</th><th scope=col>Nourriture</th><th scope=col>Disponibilité.intérieure</th><th scope=col>Total</th></tr></thead>\n",
       "<tbody>\n",
       "\t<tr><td>Afghanistan       </td><td>  560             </td><td>5494              </td><td> 7303             </td><td> 6054             </td></tr>\n",
       "\t<tr><td>Afrique du Sud    </td><td> 4824             </td><td>9503              </td><td>15493             </td><td>14327             </td></tr>\n",
       "\t<tr><td>Albanie           </td><td>  411             </td><td> 474              </td><td> 1145             </td><td>  885             </td></tr>\n",
       "\t<tr><td>Algérie           </td><td> 4337             </td><td>8535              </td><td>15013             </td><td>12872             </td></tr>\n",
       "\t<tr><td>Allemagne         </td><td>26615             </td><td>9191              </td><td>42158             </td><td>35806             </td></tr>\n",
       "\t<tr><td>Angola            </td><td>  316             </td><td>1911              </td><td> 2950             </td><td> 2227             </td></tr>\n",
       "\t<tr><td>Antigua-et-Barbuda</td><td>    0             </td><td>   7              </td><td>    8             </td><td>    7             </td></tr>\n",
       "\t<tr><td>Arabie saoudite   </td><td>11680             </td><td>4439              </td><td>16595             </td><td>16119             </td></tr>\n",
       "\t<tr><td>Argentine         </td><td> 6533             </td><td>5116              </td><td>16176             </td><td>11649             </td></tr>\n",
       "\t<tr><td>Arménie           </td><td>  332             </td><td> 405              </td><td>  892             </td><td>  737             </td></tr>\n",
       "</tbody>\n",
       "</table>\n"
      ],
      "text/latex": [
       "\\begin{tabular}{r|lllll}\n",
       " Zone & Aliments pour animaux & Nourriture & Disponibilité.intérieure & Total\\\\\n",
       "\\hline\n",
       "\t Afghanistan        &   560              & 5494               &  7303              &  6054             \\\\\n",
       "\t Afrique du Sud     &  4824              & 9503               & 15493              & 14327             \\\\\n",
       "\t Albanie            &   411              &  474               &  1145              &   885             \\\\\n",
       "\t Algérie            &  4337              & 8535               & 15013              & 12872             \\\\\n",
       "\t Allemagne          & 26615              & 9191               & 42158              & 35806             \\\\\n",
       "\t Angola             &   316              & 1911               &  2950              &  2227             \\\\\n",
       "\t Antigua-et-Barbuda &     0              &    7               &     8              &     7             \\\\\n",
       "\t Arabie saoudite    & 11680              & 4439               & 16595              & 16119             \\\\\n",
       "\t Argentine          &  6533              & 5116               & 16176              & 11649             \\\\\n",
       "\t Arménie            &   332              &  405               &   892              &   737             \\\\\n",
       "\\end{tabular}\n"
      ],
      "text/markdown": [
       "\n",
       "| Zone | Aliments pour animaux | Nourriture | Disponibilité.intérieure | Total |\n",
       "|---|---|---|---|---|\n",
       "| Afghanistan        |   560              | 5494               |  7303              |  6054              |\n",
       "| Afrique du Sud     |  4824              | 9503               | 15493              | 14327              |\n",
       "| Albanie            |   411              |  474               |  1145              |   885              |\n",
       "| Algérie            |  4337              | 8535               | 15013              | 12872              |\n",
       "| Allemagne          | 26615              | 9191               | 42158              | 35806              |\n",
       "| Angola             |   316              | 1911               |  2950              |  2227              |\n",
       "| Antigua-et-Barbuda |     0              |    7               |     8              |     7              |\n",
       "| Arabie saoudite    | 11680              | 4439               | 16595              | 16119              |\n",
       "| Argentine          |  6533              | 5116               | 16176              | 11649              |\n",
       "| Arménie            |   332              |  405               |   892              |   737              |\n",
       "\n"
      ],
      "text/plain": [
       "   Zone               Aliments pour animaux Nourriture Disponibilité.intérieure\n",
       "1  Afghanistan          560                 5494        7303                   \n",
       "2  Afrique du Sud      4824                 9503       15493                   \n",
       "3  Albanie              411                  474        1145                   \n",
       "4  Algérie             4337                 8535       15013                   \n",
       "5  Allemagne          26615                 9191       42158                   \n",
       "6  Angola               316                 1911        2950                   \n",
       "7  Antigua-et-Barbuda     0                    7           8                   \n",
       "8  Arabie saoudite    11680                 4439       16595                   \n",
       "9  Argentine           6533                 5116       16176                   \n",
       "10 Arménie              332                  405         892                   \n",
       "   Total\n",
       "1   6054\n",
       "2  14327\n",
       "3    885\n",
       "4  12872\n",
       "5  35806\n",
       "6   2227\n",
       "7      7\n",
       "8  16119\n",
       "9  11649\n",
       "10   737"
      ]
     },
     "metadata": {},
     "output_type": "display_data"
    }
   ],
   "source": [
    "util_cereal = aggregate.data.frame(cbind(util_cereal$Aliments.pour.animaux,util_cereal$Nourriture,util_cereal$Disponibilité.intérieure), by=list(util_cereal$Zone), FUN = sum, na.rm=TRUE)\n",
    "colnames(util_cereal)<-c(\"Zone\",\"Aliments pour animaux\",\"Nourriture\",\"Disponibilité.intérieure\")\n",
    "util_cereal[\"Total\"]= util_cereal$\"Aliments pour animaux\"+util_cereal$Nourriture\n",
    "head(util_cereal, 10)"
   ]
  },
  {
   "cell_type": "code",
   "execution_count": 34,
   "id": "1905ced5",
   "metadata": {},
   "outputs": [
    {
     "data": {
      "text/html": [
       "<table>\n",
       "<thead><tr><th scope=col>Zone</th><th scope=col>Aliments pour animaux</th><th scope=col>Nourriture</th><th scope=col>Disponibilité.intérieure</th><th scope=col>Total</th></tr></thead>\n",
       "<tbody>\n",
       "\t<tr><td>Afghanistan       </td><td>  560             </td><td>5494              </td><td> 7303             </td><td> 6054             </td></tr>\n",
       "\t<tr><td>Afrique du Sud    </td><td> 4824             </td><td>9503              </td><td>15493             </td><td>14327             </td></tr>\n",
       "\t<tr><td>Albanie           </td><td>  411             </td><td> 474              </td><td> 1145             </td><td>  885             </td></tr>\n",
       "\t<tr><td>Algérie           </td><td> 4337             </td><td>8535              </td><td>15013             </td><td>12872             </td></tr>\n",
       "\t<tr><td>Allemagne         </td><td>26615             </td><td>9191              </td><td>42158             </td><td>35806             </td></tr>\n",
       "\t<tr><td>Angola            </td><td>  316             </td><td>1911              </td><td> 2950             </td><td> 2227             </td></tr>\n",
       "\t<tr><td>Antigua-et-Barbuda</td><td>    0             </td><td>   7              </td><td>    8             </td><td>    7             </td></tr>\n",
       "\t<tr><td>Arabie saoudite   </td><td>11680             </td><td>4439              </td><td>16595             </td><td>16119             </td></tr>\n",
       "\t<tr><td>Argentine         </td><td> 6533             </td><td>5116              </td><td>16176             </td><td>11649             </td></tr>\n",
       "\t<tr><td>Arménie           </td><td>  332             </td><td> 405              </td><td>  892             </td><td>  737             </td></tr>\n",
       "</tbody>\n",
       "</table>\n"
      ],
      "text/latex": [
       "\\begin{tabular}{r|lllll}\n",
       " Zone & Aliments pour animaux & Nourriture & Disponibilité.intérieure & Total\\\\\n",
       "\\hline\n",
       "\t Afghanistan        &   560              & 5494               &  7303              &  6054             \\\\\n",
       "\t Afrique du Sud     &  4824              & 9503               & 15493              & 14327             \\\\\n",
       "\t Albanie            &   411              &  474               &  1145              &   885             \\\\\n",
       "\t Algérie            &  4337              & 8535               & 15013              & 12872             \\\\\n",
       "\t Allemagne          & 26615              & 9191               & 42158              & 35806             \\\\\n",
       "\t Angola             &   316              & 1911               &  2950              &  2227             \\\\\n",
       "\t Antigua-et-Barbuda &     0              &    7               &     8              &     7             \\\\\n",
       "\t Arabie saoudite    & 11680              & 4439               & 16595              & 16119             \\\\\n",
       "\t Argentine          &  6533              & 5116               & 16176              & 11649             \\\\\n",
       "\t Arménie            &   332              &  405               &   892              &   737             \\\\\n",
       "\\end{tabular}\n"
      ],
      "text/markdown": [
       "\n",
       "| Zone | Aliments pour animaux | Nourriture | Disponibilité.intérieure | Total |\n",
       "|---|---|---|---|---|\n",
       "| Afghanistan        |   560              | 5494               |  7303              |  6054              |\n",
       "| Afrique du Sud     |  4824              | 9503               | 15493              | 14327              |\n",
       "| Albanie            |   411              |  474               |  1145              |   885              |\n",
       "| Algérie            |  4337              | 8535               | 15013              | 12872              |\n",
       "| Allemagne          | 26615              | 9191               | 42158              | 35806              |\n",
       "| Angola             |   316              | 1911               |  2950              |  2227              |\n",
       "| Antigua-et-Barbuda |     0              |    7               |     8              |     7              |\n",
       "| Arabie saoudite    | 11680              | 4439               | 16595              | 16119              |\n",
       "| Argentine          |  6533              | 5116               | 16176              | 11649              |\n",
       "| Arménie            |   332              |  405               |   892              |   737              |\n",
       "\n"
      ],
      "text/plain": [
       "   Zone               Aliments pour animaux Nourriture Disponibilité.intérieure\n",
       "1  Afghanistan          560                 5494        7303                   \n",
       "2  Afrique du Sud      4824                 9503       15493                   \n",
       "3  Albanie              411                  474        1145                   \n",
       "4  Algérie             4337                 8535       15013                   \n",
       "5  Allemagne          26615                 9191       42158                   \n",
       "6  Angola               316                 1911        2950                   \n",
       "7  Antigua-et-Barbuda     0                    7           8                   \n",
       "8  Arabie saoudite    11680                 4439       16595                   \n",
       "9  Argentine           6533                 5116       16176                   \n",
       "10 Arménie              332                  405         892                   \n",
       "   Total\n",
       "1   6054\n",
       "2  14327\n",
       "3    885\n",
       "4  12872\n",
       "5  35806\n",
       "6   2227\n",
       "7      7\n",
       "8  16119\n",
       "9  11649\n",
       "10   737"
      ]
     },
     "metadata": {},
     "output_type": "display_data"
    }
   ],
   "source": [
    "head(util_cereal, 10)"
   ]
  },
  {
   "cell_type": "code",
   "execution_count": 35,
   "id": "9e0bac68",
   "metadata": {
    "scrolled": true
   },
   "outputs": [
    {
     "data": {
      "text/html": [
       "<table>\n",
       "<thead><tr><th></th><th scope=col>Zone</th><th scope=col>Aliments pour animaux</th><th scope=col>Nourriture</th><th scope=col>Disponibilité.intérieure</th><th scope=col>Total</th></tr></thead>\n",
       "<tbody>\n",
       "\t<tr><th scope=row>36</th><td>Chine, continentale  </td><td>193042               </td><td>209038               </td><td>483482               </td><td>402080               </td></tr>\n",
       "\t<tr><th scope=row>75</th><td>Inde                 </td><td> 11419               </td><td>185886               </td><td>216517               </td><td>197305               </td></tr>\n",
       "\t<tr><th scope=row>76</th><td>Indonésie            </td><td>  8045               </td><td> 48845               </td><td> 74532               </td><td> 56890               </td></tr>\n",
       "\t<tr><th scope=row>55</th><td>États-Unis d'Amérique</td><td>140096               </td><td> 33810               </td><td>343006               </td><td>173906               </td></tr>\n",
       "\t<tr><th scope=row>15</th><td>Bangladesh           </td><td>  2731               </td><td> 29765               </td><td> 35890               </td><td> 32496               </td></tr>\n",
       "\t<tr><th scope=row>123</th><td>Pakistan             </td><td>  1587               </td><td> 25838               </td><td> 32187               </td><td> 27425               </td></tr>\n",
       "\t<tr><th scope=row>116</th><td>Nigéria              </td><td>  4064               </td><td> 23843               </td><td> 31533               </td><td> 27907               </td></tr>\n",
       "\t<tr><th scope=row>25</th><td>Brésil               </td><td> 43264               </td><td> 23290               </td><td> 79455               </td><td> 66554               </td></tr>\n",
       "\t<tr><th scope=row>57</th><td>Fédération de Russie </td><td> 30806               </td><td> 21141               </td><td> 68227               </td><td> 51947               </td></tr>\n",
       "\t<tr><th scope=row>48</th><td>Égypte               </td><td> 12585               </td><td> 20687               </td><td> 37968               </td><td> 33272               </td></tr>\n",
       "</tbody>\n",
       "</table>\n"
      ],
      "text/latex": [
       "\\begin{tabular}{r|lllll}\n",
       "  & Zone & Aliments pour animaux & Nourriture & Disponibilité.intérieure & Total\\\\\n",
       "\\hline\n",
       "\t36 & Chine, continentale   & 193042                & 209038                & 483482                & 402080               \\\\\n",
       "\t75 & Inde                  &  11419                & 185886                & 216517                & 197305               \\\\\n",
       "\t76 & Indonésie             &   8045                &  48845                &  74532                &  56890               \\\\\n",
       "\t55 & États-Unis d'Amérique & 140096                &  33810                & 343006                & 173906               \\\\\n",
       "\t15 & Bangladesh            &   2731                &  29765                &  35890                &  32496               \\\\\n",
       "\t123 & Pakistan              &   1587                &  25838                &  32187                &  27425               \\\\\n",
       "\t116 & Nigéria               &   4064                &  23843                &  31533                &  27907               \\\\\n",
       "\t25 & Brésil                &  43264                &  23290                &  79455                &  66554               \\\\\n",
       "\t57 & Fédération de Russie  &  30806                &  21141                &  68227                &  51947               \\\\\n",
       "\t48 & Égypte                &  12585                &  20687                &  37968                &  33272               \\\\\n",
       "\\end{tabular}\n"
      ],
      "text/markdown": [
       "\n",
       "| <!--/--> | Zone | Aliments pour animaux | Nourriture | Disponibilité.intérieure | Total |\n",
       "|---|---|---|---|---|---|\n",
       "| 36 | Chine, continentale   | 193042                | 209038                | 483482                | 402080                |\n",
       "| 75 | Inde                  |  11419                | 185886                | 216517                | 197305                |\n",
       "| 76 | Indonésie             |   8045                |  48845                |  74532                |  56890                |\n",
       "| 55 | États-Unis d'Amérique | 140096                |  33810                | 343006                | 173906                |\n",
       "| 15 | Bangladesh            |   2731                |  29765                |  35890                |  32496                |\n",
       "| 123 | Pakistan              |   1587                |  25838                |  32187                |  27425                |\n",
       "| 116 | Nigéria               |   4064                |  23843                |  31533                |  27907                |\n",
       "| 25 | Brésil                |  43264                |  23290                |  79455                |  66554                |\n",
       "| 57 | Fédération de Russie  |  30806                |  21141                |  68227                |  51947                |\n",
       "| 48 | Égypte                |  12585                |  20687                |  37968                |  33272                |\n",
       "\n"
      ],
      "text/plain": [
       "    Zone                  Aliments pour animaux Nourriture\n",
       "36  Chine, continentale   193042                209038    \n",
       "75  Inde                   11419                185886    \n",
       "76  Indonésie               8045                 48845    \n",
       "55  États-Unis d'Amérique 140096                 33810    \n",
       "15  Bangladesh              2731                 29765    \n",
       "123 Pakistan                1587                 25838    \n",
       "116 Nigéria                 4064                 23843    \n",
       "25  Brésil                 43264                 23290    \n",
       "57  Fédération de Russie   30806                 21141    \n",
       "48  Égypte                 12585                 20687    \n",
       "    Disponibilité.intérieure Total \n",
       "36  483482                   402080\n",
       "75  216517                   197305\n",
       "76   74532                    56890\n",
       "55  343006                   173906\n",
       "15   35890                    32496\n",
       "123  32187                    27425\n",
       "116  31533                    27907\n",
       "25   79455                    66554\n",
       "57   68227                    51947\n",
       "48   37968                    33272"
      ]
     },
     "metadata": {},
     "output_type": "display_data"
    }
   ],
   "source": [
    "head(util_cereal[order(-util_cereal$Nourriture),],10)"
   ]
  },
  {
   "cell_type": "code",
   "execution_count": 36,
   "id": "783b5c82",
   "metadata": {
    "scrolled": true
   },
   "outputs": [
    {
     "data": {
      "text/html": [
       "<table>\n",
       "<thead><tr><th></th><th scope=col>Zone</th><th scope=col>Aliments pour animaux</th><th scope=col>Nourriture</th><th scope=col>Disponibilité.intérieure</th><th scope=col>Total</th></tr></thead>\n",
       "<tbody>\n",
       "\t<tr><th scope=row>36</th><td>Chine, continentale  </td><td>193042               </td><td>209038               </td><td>483482               </td><td>402080               </td></tr>\n",
       "\t<tr><th scope=row>55</th><td>États-Unis d'Amérique</td><td>140096               </td><td> 33810               </td><td>343006               </td><td>173906               </td></tr>\n",
       "\t<tr><th scope=row>25</th><td>Brésil               </td><td> 43264               </td><td> 23290               </td><td> 79455               </td><td> 66554               </td></tr>\n",
       "\t<tr><th scope=row>57</th><td>Fédération de Russie </td><td> 30806               </td><td> 21141               </td><td> 68227               </td><td> 51947               </td></tr>\n",
       "\t<tr><th scope=row>5</th><td>Allemagne            </td><td> 26615               </td><td>  9191               </td><td> 42158               </td><td> 35806               </td></tr>\n",
       "\t<tr><th scope=row>52</th><td>Espagne              </td><td> 24926               </td><td>  4971               </td><td> 33495               </td><td> 29897               </td></tr>\n",
       "\t<tr><th scope=row>32</th><td>Canada               </td><td> 23905               </td><td>  4200               </td><td> 32769               </td><td> 28105               </td></tr>\n",
       "\t<tr><th scope=row>107</th><td>Mexique              </td><td> 20516               </td><td> 19506               </td><td> 47838               </td><td> 40022               </td></tr>\n",
       "\t<tr><th scope=row>167</th><td>Ukraine              </td><td> 19890               </td><td>  6261               </td><td> 32235               </td><td> 26151               </td></tr>\n",
       "\t<tr><th scope=row>60</th><td>France               </td><td> 19103               </td><td>  8181               </td><td> 35536               </td><td> 27284               </td></tr>\n",
       "</tbody>\n",
       "</table>\n"
      ],
      "text/latex": [
       "\\begin{tabular}{r|lllll}\n",
       "  & Zone & Aliments pour animaux & Nourriture & Disponibilité.intérieure & Total\\\\\n",
       "\\hline\n",
       "\t36 & Chine, continentale   & 193042                & 209038                & 483482                & 402080               \\\\\n",
       "\t55 & États-Unis d'Amérique & 140096                &  33810                & 343006                & 173906               \\\\\n",
       "\t25 & Brésil                &  43264                &  23290                &  79455                &  66554               \\\\\n",
       "\t57 & Fédération de Russie  &  30806                &  21141                &  68227                &  51947               \\\\\n",
       "\t5 & Allemagne             &  26615                &   9191                &  42158                &  35806               \\\\\n",
       "\t52 & Espagne               &  24926                &   4971                &  33495                &  29897               \\\\\n",
       "\t32 & Canada                &  23905                &   4200                &  32769                &  28105               \\\\\n",
       "\t107 & Mexique               &  20516                &  19506                &  47838                &  40022               \\\\\n",
       "\t167 & Ukraine               &  19890                &   6261                &  32235                &  26151               \\\\\n",
       "\t60 & France                &  19103                &   8181                &  35536                &  27284               \\\\\n",
       "\\end{tabular}\n"
      ],
      "text/markdown": [
       "\n",
       "| <!--/--> | Zone | Aliments pour animaux | Nourriture | Disponibilité.intérieure | Total |\n",
       "|---|---|---|---|---|---|\n",
       "| 36 | Chine, continentale   | 193042                | 209038                | 483482                | 402080                |\n",
       "| 55 | États-Unis d'Amérique | 140096                |  33810                | 343006                | 173906                |\n",
       "| 25 | Brésil                |  43264                |  23290                |  79455                |  66554                |\n",
       "| 57 | Fédération de Russie  |  30806                |  21141                |  68227                |  51947                |\n",
       "| 5 | Allemagne             |  26615                |   9191                |  42158                |  35806                |\n",
       "| 52 | Espagne               |  24926                |   4971                |  33495                |  29897                |\n",
       "| 32 | Canada                |  23905                |   4200                |  32769                |  28105                |\n",
       "| 107 | Mexique               |  20516                |  19506                |  47838                |  40022                |\n",
       "| 167 | Ukraine               |  19890                |   6261                |  32235                |  26151                |\n",
       "| 60 | France                |  19103                |   8181                |  35536                |  27284                |\n",
       "\n"
      ],
      "text/plain": [
       "    Zone                  Aliments pour animaux Nourriture\n",
       "36  Chine, continentale   193042                209038    \n",
       "55  États-Unis d'Amérique 140096                 33810    \n",
       "25  Brésil                 43264                 23290    \n",
       "57  Fédération de Russie   30806                 21141    \n",
       "5   Allemagne              26615                  9191    \n",
       "52  Espagne                24926                  4971    \n",
       "32  Canada                 23905                  4200    \n",
       "107 Mexique                20516                 19506    \n",
       "167 Ukraine                19890                  6261    \n",
       "60  France                 19103                  8181    \n",
       "    Disponibilité.intérieure Total \n",
       "36  483482                   402080\n",
       "55  343006                   173906\n",
       "25   79455                    66554\n",
       "57   68227                    51947\n",
       "5    42158                    35806\n",
       "52   33495                    29897\n",
       "32   32769                    28105\n",
       "107  47838                    40022\n",
       "167  32235                    26151\n",
       "60   35536                    27284"
      ]
     },
     "metadata": {},
     "output_type": "display_data"
    }
   ],
   "source": [
    "head(util_cereal[order(-util_cereal$\"Aliments pour animaux\"),],10)"
   ]
  },
  {
   "cell_type": "code",
   "execution_count": 37,
   "id": "50a87724",
   "metadata": {},
   "outputs": [
    {
     "data": {
      "text/html": [
       "0"
      ],
      "text/latex": [
       "0"
      ],
      "text/markdown": [
       "0"
      ],
      "text/plain": [
       "[1] 0"
      ]
     },
     "metadata": {},
     "output_type": "display_data"
    }
   ],
   "source": [
    "util_cereal_animaux = (sum(util_cereal$Aliments.pour.animaux,na.rm=TRUE)/sum(util_cereal$Disponibilité.intérieure,na.rm=TRUE))*100\n",
    "util_cereal_animaux"
   ]
  },
  {
   "cell_type": "code",
   "execution_count": 38,
   "id": "7d567c77",
   "metadata": {
    "scrolled": true
   },
   "outputs": [
    {
     "data": {
      "text/html": [
       "42.7507448071229"
      ],
      "text/latex": [
       "42.7507448071229"
      ],
      "text/markdown": [
       "42.7507448071229"
      ],
      "text/plain": [
       "[1] 42.75074"
      ]
     },
     "metadata": {},
     "output_type": "display_data"
    }
   ],
   "source": [
    "util_cereal_humain = (sum(util_cereal$Nourriture,na.rm=TRUE)/sum(util_cereal$Disponibilité.intérieure,na.rm=TRUE))*100\n",
    "util_cereal_humain"
   ]
  },
  {
   "cell_type": "markdown",
   "id": "15a06a0f",
   "metadata": {},
   "source": [
    "En calculant la proportion d'utilisations du cereal pour les etres humains et les animaux en fonction de la distribution interieure, ont retrouve une valeur de 42,7% pour la part humaine et 36,29% pour les animaux. Le reste des pourcentages correspond aux autres valeurs (traitement, pertes, autres utilisations...etc)."
   ]
  },
  {
   "cell_type": "markdown",
   "id": "589a7f13",
   "metadata": {},
   "source": [
    "## Utilisations du Manioc en Thailand: <a name=\"UtilisationsManioc\"></a>"
   ]
  },
  {
   "cell_type": "code",
   "execution_count": 39,
   "id": "e4249f09",
   "metadata": {
    "scrolled": true
   },
   "outputs": [
    {
     "data": {
      "text/html": [
       "<table>\n",
       "<thead><tr><th scope=col>Zone</th><th scope=col>Produit</th><th scope=col>Origine</th><th scope=col>Aliments.pour.animaux</th><th scope=col>Autres.Utilisations</th><th scope=col>Disponibilité.alimentaire..Kcal.personne.jour.</th><th scope=col>Disponibilité.alimentaire.en.quantité..kg.personne.an.</th><th scope=col>Disponibilité.de.matière.grasse.en.quantité..g.personne.jour.</th><th scope=col>Disponibilité.de.protéines.en.quantité..g.personne.jour.</th><th scope=col>Disponibilité.intérieure</th><th scope=col>Exportations...Quantité</th><th scope=col>Importations...Quantité</th><th scope=col>Nourriture</th><th scope=col>Pertes</th><th scope=col>Production</th><th scope=col>Semences</th><th scope=col>Traitement</th><th scope=col>Variation.de.stock</th></tr></thead>\n",
       "<tbody>\n",
       "\t<tr><td>Thaïlande</td><td>Manioc   </td><td>vegetale </td><td>1800     </td><td>2081     </td><td>40       </td><td>13       </td><td>0.05     </td><td>0.14     </td><td>6264     </td><td>25214    </td><td>1250     </td><td>871      </td><td>1511     </td><td>30228    </td><td>NA       </td><td>0        </td><td>0        </td></tr>\n",
       "</tbody>\n",
       "</table>\n"
      ],
      "text/latex": [
       "\\begin{tabular}{r|llllllllllllllllll}\n",
       " Zone & Produit & Origine & Aliments.pour.animaux & Autres.Utilisations & Disponibilité.alimentaire..Kcal.personne.jour. & Disponibilité.alimentaire.en.quantité..kg.personne.an. & Disponibilité.de.matière.grasse.en.quantité..g.personne.jour. & Disponibilité.de.protéines.en.quantité..g.personne.jour. & Disponibilité.intérieure & Exportations...Quantité & Importations...Quantité & Nourriture & Pertes & Production & Semences & Traitement & Variation.de.stock\\\\\n",
       "\\hline\n",
       "\t Thaïlande & Manioc    & vegetale  & 1800      & 2081      & 40        & 13        & 0.05      & 0.14      & 6264      & 25214     & 1250      & 871       & 1511      & 30228     & NA        & 0         & 0        \\\\\n",
       "\\end{tabular}\n"
      ],
      "text/markdown": [
       "\n",
       "| Zone | Produit | Origine | Aliments.pour.animaux | Autres.Utilisations | Disponibilité.alimentaire..Kcal.personne.jour. | Disponibilité.alimentaire.en.quantité..kg.personne.an. | Disponibilité.de.matière.grasse.en.quantité..g.personne.jour. | Disponibilité.de.protéines.en.quantité..g.personne.jour. | Disponibilité.intérieure | Exportations...Quantité | Importations...Quantité | Nourriture | Pertes | Production | Semences | Traitement | Variation.de.stock |\n",
       "|---|---|---|---|---|---|---|---|---|---|---|---|---|---|---|---|---|---|\n",
       "| Thaïlande | Manioc    | vegetale  | 1800      | 2081      | 40        | 13        | 0.05      | 0.14      | 6264      | 25214     | 1250      | 871       | 1511      | 30228     | NA        | 0         | 0         |\n",
       "\n"
      ],
      "text/plain": [
       "  Zone      Produit Origine  Aliments.pour.animaux Autres.Utilisations\n",
       "1 Thaïlande Manioc  vegetale 1800                  2081               \n",
       "  Disponibilité.alimentaire..Kcal.personne.jour.\n",
       "1 40                                            \n",
       "  Disponibilité.alimentaire.en.quantité..kg.personne.an.\n",
       "1 13                                                    \n",
       "  Disponibilité.de.matière.grasse.en.quantité..g.personne.jour.\n",
       "1 0.05                                                         \n",
       "  Disponibilité.de.protéines.en.quantité..g.personne.jour.\n",
       "1 0.14                                                    \n",
       "  Disponibilité.intérieure Exportations...Quantité Importations...Quantité\n",
       "1 6264                     25214                   1250                   \n",
       "  Nourriture Pertes Production Semences Traitement Variation.de.stock\n",
       "1 871        1511   30228      NA       0          0                 "
      ]
     },
     "metadata": {},
     "output_type": "display_data"
    }
   ],
   "source": [
    "Thailande = dplyr::filter(dispo_alimentaire, Zone==\"Thaïlande\" & Produit==\"Manioc\" )\n",
    "Thai = dplyr::filter(production_alimentaire, Zone==\"Thaïlande\")\n",
    "Thailande_nutri = dplyr::filter(prop_sous_nutrition_2017B, Zone==\"Thaïlande\")\n",
    "Thailande"
   ]
  },
  {
   "cell_type": "markdown",
   "id": "931cb17e",
   "metadata": {},
   "source": [
    "En analysant l'utilisation de la distribution du manioc en Thailande, on peut constater le fort taux d'exportations de 25214 tonnes pour une productions de 30228 tonnes"
   ]
  },
  {
   "cell_type": "code",
   "execution_count": 40,
   "id": "62aeff3a",
   "metadata": {
    "scrolled": true
   },
   "outputs": [
    {
     "data": {
      "text/html": [
       "<table>\n",
       "<thead><tr><th scope=col>Exportations...Quantité</th><th scope=col>Production</th></tr></thead>\n",
       "<tbody>\n",
       "\t<tr><td>25214</td><td>30228</td></tr>\n",
       "</tbody>\n",
       "</table>\n"
      ],
      "text/latex": [
       "\\begin{tabular}{r|ll}\n",
       " Exportations...Quantité & Production\\\\\n",
       "\\hline\n",
       "\t 25214 & 30228\\\\\n",
       "\\end{tabular}\n"
      ],
      "text/markdown": [
       "\n",
       "| Exportations...Quantité | Production |\n",
       "|---|---|\n",
       "| 25214 | 30228 |\n",
       "\n"
      ],
      "text/plain": [
       "  Exportations...Quantité Production\n",
       "1 25214                   30228     "
      ]
     },
     "metadata": {},
     "output_type": "display_data"
    }
   ],
   "source": [
    "Thailande_manioc = Thailande[, c(11, 15)]\n",
    "Thailande_manioc"
   ]
  },
  {
   "cell_type": "code",
   "execution_count": 41,
   "id": "e76881b8",
   "metadata": {},
   "outputs": [
    {
     "data": {
      "text/html": [
       "<table>\n",
       "<thead><tr><th scope=col>Zone</th><th scope=col>Année</th><th scope=col>val_sousnutri</th><th scope=col>poptotal</th><th scope=col>proportion</th></tr></thead>\n",
       "<tbody>\n",
       "\t<tr><td>Thaïlande </td><td>2017      </td><td>6.2       </td><td>69209.81  </td><td>0.08958268</td></tr>\n",
       "</tbody>\n",
       "</table>\n"
      ],
      "text/latex": [
       "\\begin{tabular}{r|lllll}\n",
       " Zone & Année & val\\_sousnutri & poptotal & proportion\\\\\n",
       "\\hline\n",
       "\t Thaïlande  & 2017       & 6.2        & 69209.81   & 0.08958268\\\\\n",
       "\\end{tabular}\n"
      ],
      "text/markdown": [
       "\n",
       "| Zone | Année | val_sousnutri | poptotal | proportion |\n",
       "|---|---|---|---|---|\n",
       "| Thaïlande  | 2017       | 6.2        | 69209.81   | 0.08958268 |\n",
       "\n"
      ],
      "text/plain": [
       "  Zone      Année val_sousnutri poptotal proportion\n",
       "1 Thaïlande 2017  6.2           69209.81 0.08958268"
      ]
     },
     "metadata": {},
     "output_type": "display_data"
    }
   ],
   "source": [
    "Thailande_nutri"
   ]
  },
  {
   "cell_type": "code",
   "execution_count": 42,
   "id": "b48304e6",
   "metadata": {},
   "outputs": [
    {
     "data": {
      "text/html": [
       "<table>\n",
       "<thead><tr><th scope=col>Zone</th><th scope=col>Aliments pour animaux</th><th scope=col>Autres utilisations</th><th scope=col>Nourriture</th><th scope=col>Pertes</th><th scope=col>Semences</th><th scope=col>Traitement</th><th scope=col>Disponibilité.intérieure</th><th scope=col>Total</th></tr></thead>\n",
       "<tbody>\n",
       "\t<tr><td>Thaïlande</td><td>9561     </td><td>4210     </td><td>39283    </td><td>5749     </td><td>823      </td><td>99170    </td><td>158130   </td><td>158796   </td></tr>\n",
       "</tbody>\n",
       "</table>\n"
      ],
      "text/latex": [
       "\\begin{tabular}{r|lllllllll}\n",
       " Zone & Aliments pour animaux & Autres utilisations & Nourriture & Pertes & Semences & Traitement & Disponibilité.intérieure & Total\\\\\n",
       "\\hline\n",
       "\t Thaïlande & 9561      & 4210      & 39283     & 5749      & 823       & 99170     & 158130    & 158796   \\\\\n",
       "\\end{tabular}\n"
      ],
      "text/markdown": [
       "\n",
       "| Zone | Aliments pour animaux | Autres utilisations | Nourriture | Pertes | Semences | Traitement | Disponibilité.intérieure | Total |\n",
       "|---|---|---|---|---|---|---|---|---|\n",
       "| Thaïlande | 9561      | 4210      | 39283     | 5749      | 823       | 99170     | 158130    | 158796    |\n",
       "\n"
      ],
      "text/plain": [
       "  Zone      Aliments pour animaux Autres utilisations Nourriture Pertes\n",
       "1 Thaïlande 9561                  4210                39283      5749  \n",
       "  Semences Traitement Disponibilité.intérieure Total \n",
       "1 823      99170      158130                   158796"
      ]
     },
     "metadata": {},
     "output_type": "display_data"
    }
   ],
   "source": [
    "Thai"
   ]
  },
  {
   "cell_type": "code",
   "execution_count": 56,
   "id": "06475f05",
   "metadata": {},
   "outputs": [
    {
     "data": {
      "text/html": [
       "<table>\n",
       "<thead><tr><th scope=col>Produit</th><th scope=col>Disponibilité.alimentaire..Kcal.personne.jour.</th><th scope=col>Exportations...Quantité</th><th scope=col>Production</th></tr></thead>\n",
       "<tbody>\n",
       "\t<tr><td>Abats Comestible        </td><td> 3                      </td><td>   5                    </td><td>  45                    </td></tr>\n",
       "\t<tr><td>Agrumes, Autres         </td><td> 0                      </td><td>   6                    </td><td>  12                    </td></tr>\n",
       "\t<tr><td>Alcool, non Comestible  </td><td>NA                      </td><td> 110                    </td><td> 447                    </td></tr>\n",
       "\t<tr><td>Aliments pour enfants   </td><td> 2                      </td><td>   7                    </td><td>  NA                    </td></tr>\n",
       "\t<tr><td>Ananas                  </td><td>10                      </td><td>1449                    </td><td>2209                    </td></tr>\n",
       "\t<tr><td>Animaux Aquatiques Autre</td><td> 1                      </td><td>  25                    </td><td> 110                    </td></tr>\n",
       "\t<tr><td>Arachides Decortiquees  </td><td> 9                      </td><td>   5                    </td><td>  33                    </td></tr>\n",
       "\t<tr><td>Avoine                  </td><td> 0                      </td><td>   0                    </td><td>  NA                    </td></tr>\n",
       "\t<tr><td>Bananes                 </td><td>26                      </td><td> 446                    </td><td>1600                    </td></tr>\n",
       "\t<tr><td>Beurre, Ghee            </td><td> 4                      </td><td>   1                    </td><td>  NA                    </td></tr>\n",
       "\t<tr><td>Bière                   </td><td>41                      </td><td> 249                    </td><td>2273                    </td></tr>\n",
       "\t<tr><td>Blé                     </td><td>76                      </td><td> 237                    </td><td>   2                    </td></tr>\n",
       "\t<tr><td>Boissons Alcooliques    </td><td>83                      </td><td>  13                    </td><td> 660                    </td></tr>\n",
       "\t<tr><td>Boissons Fermentés      </td><td> 0                      </td><td>   2                    </td><td>  12                    </td></tr>\n",
       "\t<tr><td>Café                    </td><td> 0                      </td><td> 150                    </td><td>  50                    </td></tr>\n",
       "\t<tr><td>Cephalopodes            </td><td> 5                      </td><td>  72                    </td><td> 128                    </td></tr>\n",
       "\t<tr><td><span style=white-space:pre-wrap>Citrons &amp; Limes         </span></td><td> 1                                                                  </td><td><span style=white-space:pre-wrap>  17</span>                        </td><td> 132                                                                </td></tr>\n",
       "\t<tr><td>Coco (Incl Coprah)      </td><td>42                      </td><td>  62                    </td><td>1010                    </td></tr>\n",
       "\t<tr><td>Crustacés               </td><td> 2                      </td><td> 678                    </td><td> 718                    </td></tr>\n",
       "\t<tr><td>Crème                   </td><td> 0                      </td><td>   1                    </td><td>   1                    </td></tr>\n",
       "\t<tr><td>Céréales, Autres        </td><td> 0                      </td><td> 222                    </td><td> 254                    </td></tr>\n",
       "\t<tr><td>Dattes                  </td><td> 0                      </td><td>   0                    </td><td>  NA                    </td></tr>\n",
       "\t<tr><td>Edulcorants Autres      </td><td>21                      </td><td>  62                    </td><td> 117                    </td></tr>\n",
       "\t<tr><td>Feve de Cacao           </td><td> 3                      </td><td>  22                    </td><td>   1                    </td></tr>\n",
       "\t<tr><td>Fruits, Autres          </td><td>63                      </td><td>2671                    </td><td>6141                    </td></tr>\n",
       "\t<tr><td>Girofles                </td><td> 0                      </td><td>   0                    </td><td>  NA                    </td></tr>\n",
       "\t<tr><td>Graines Colza/Moutarde  </td><td> 0                      </td><td>   0                    </td><td>  NA                    </td></tr>\n",
       "\t<tr><td>Graines de coton        </td><td>NA                      </td><td>   0                    </td><td>   5                    </td></tr>\n",
       "\t<tr><td>Graines de tournesol    </td><td>NA                      </td><td>   0                    </td><td>  25                    </td></tr>\n",
       "\t<tr><td>Graisses Animales Crue  </td><td> 5                      </td><td>  40                    </td><td>  27                    </td></tr>\n",
       "\t<tr><td>...</td><td>...</td><td>...</td><td>...</td></tr>\n",
       "\t<tr><td>Perciform               </td><td>   1                    </td><td> 157                    </td><td>   183                  </td></tr>\n",
       "\t<tr><td>Piments                 </td><td>  23                    </td><td>   3                    </td><td>   156                  </td></tr>\n",
       "\t<tr><td>Plantes Aquatiques      </td><td>   0                    </td><td>   1                    </td><td>     0                  </td></tr>\n",
       "\t<tr><td>Plantes Oleiferes, Autre</td><td>   0                    </td><td>   1                    </td><td>   176                  </td></tr>\n",
       "\t<tr><td>Pois                    </td><td>   1                    </td><td>   0                    </td><td>    NA                  </td></tr>\n",
       "\t<tr><td>Poissons Eau Douce      </td><td>  16                    </td><td>  97                    </td><td>   599                  </td></tr>\n",
       "\t<tr><td>Poissons Marins, Autres </td><td>   0                    </td><td> 180                    </td><td>   499                  </td></tr>\n",
       "\t<tr><td>Poissons Pelagiques     </td><td>  30                    </td><td>1390                    </td><td>   595                  </td></tr>\n",
       "\t<tr><td>Poivre                  </td><td>   1                    </td><td>   0                    </td><td>     3                  </td></tr>\n",
       "\t<tr><td>Pommes                  </td><td>   2                    </td><td>  43                    </td><td>    NA                  </td></tr>\n",
       "\t<tr><td>Pommes de Terre         </td><td>   8                    </td><td>   4                    </td><td>   105                  </td></tr>\n",
       "\t<tr><td>Racines nda             </td><td>  15                    </td><td>   5                    </td><td>   349                  </td></tr>\n",
       "\t<tr><td>Raisin                  </td><td>   4                    </td><td>   5                    </td><td>    80                  </td></tr>\n",
       "\t<tr><td>Riz (Eq Blanchi)        </td><td>1139                    </td><td>6860                    </td><td> 24054                  </td></tr>\n",
       "\t<tr><td>Seigle                  </td><td>   0                    </td><td>   0                    </td><td>    NA                  </td></tr>\n",
       "\t<tr><td>Soja                    </td><td>  22                    </td><td>  12                    </td><td>   190                  </td></tr>\n",
       "\t<tr><td>Sorgho                  </td><td>  NA                    </td><td>   2                    </td><td>    57                  </td></tr>\n",
       "\t<tr><td>Sucre Eq Brut           </td><td> 368                    </td><td>6462                    </td><td> 10024                  </td></tr>\n",
       "\t<tr><td>Sucre, betterave        </td><td>  NA                    </td><td>   0                    </td><td>    NA                  </td></tr>\n",
       "\t<tr><td>Sucre, canne            </td><td>  49                    </td><td>   0                    </td><td>100096                  </td></tr>\n",
       "\t<tr><td>Sésame                  </td><td>   2                    </td><td>   6                    </td><td>    52                  </td></tr>\n",
       "\t<tr><td>Thé                     </td><td>   1                    </td><td>  30                    </td><td>    75                  </td></tr>\n",
       "\t<tr><td>Tomates                 </td><td>   1                    </td><td>   5                    </td><td>    95                  </td></tr>\n",
       "\t<tr><td>Viande d'Ovins/Caprins  </td><td>   0                    </td><td>   0                    </td><td>     2                  </td></tr>\n",
       "\t<tr><td>Viande de Bovins        </td><td>  10                    </td><td> 106                    </td><td>   195                  </td></tr>\n",
       "\t<tr><td>Viande de Suides        </td><td> 124                    </td><td>  22                    </td><td>   891                  </td></tr>\n",
       "\t<tr><td>Viande de Volailles     </td><td>  52                    </td><td> 536                    </td><td>  1470                  </td></tr>\n",
       "\t<tr><td>Viande, Autre           </td><td>   0                    </td><td>  96                    </td><td>    NA                  </td></tr>\n",
       "\t<tr><td>Vin                     </td><td>   0                    </td><td>   8                    </td><td>    NA                  </td></tr>\n",
       "\t<tr><td>Épices, Autres          </td><td>  16                    </td><td>  42                    </td><td>   143                  </td></tr>\n",
       "</tbody>\n",
       "</table>\n"
      ],
      "text/latex": [
       "\\begin{tabular}{r|llll}\n",
       " Produit & Disponibilité.alimentaire..Kcal.personne.jour. & Exportations...Quantité & Production\\\\\n",
       "\\hline\n",
       "\t Abats Comestible         &  3                       &    5                     &   45                    \\\\\n",
       "\t Agrumes, Autres          &  0                       &    6                     &   12                    \\\\\n",
       "\t Alcool, non Comestible   & NA                       &  110                     &  447                    \\\\\n",
       "\t Aliments pour enfants    &  2                       &    7                     &   NA                    \\\\\n",
       "\t Ananas                   & 10                       & 1449                     & 2209                    \\\\\n",
       "\t Animaux Aquatiques Autre &  1                       &   25                     &  110                    \\\\\n",
       "\t Arachides Decortiquees   &  9                       &    5                     &   33                    \\\\\n",
       "\t Avoine                   &  0                       &    0                     &   NA                    \\\\\n",
       "\t Bananes                  & 26                       &  446                     & 1600                    \\\\\n",
       "\t Beurre, Ghee             &  4                       &    1                     &   NA                    \\\\\n",
       "\t Bière                    & 41                       &  249                     & 2273                    \\\\\n",
       "\t Blé                      & 76                       &  237                     &    2                    \\\\\n",
       "\t Boissons Alcooliques     & 83                       &   13                     &  660                    \\\\\n",
       "\t Boissons Fermentés       &  0                       &    2                     &   12                    \\\\\n",
       "\t Café                     &  0                       &  150                     &   50                    \\\\\n",
       "\t Cephalopodes             &  5                       &   72                     &  128                    \\\\\n",
       "\t Citrons \\& Limes          &  1                         &   17                       &  132                      \\\\\n",
       "\t Coco (Incl Coprah)       & 42                       &   62                     & 1010                    \\\\\n",
       "\t Crustacés                &  2                       &  678                     &  718                    \\\\\n",
       "\t Crème                    &  0                       &    1                     &    1                    \\\\\n",
       "\t Céréales, Autres         &  0                       &  222                     &  254                    \\\\\n",
       "\t Dattes                   &  0                       &    0                     &   NA                    \\\\\n",
       "\t Edulcorants Autres       & 21                       &   62                     &  117                    \\\\\n",
       "\t Feve de Cacao            &  3                       &   22                     &    1                    \\\\\n",
       "\t Fruits, Autres           & 63                       & 2671                     & 6141                    \\\\\n",
       "\t Girofles                 &  0                       &    0                     &   NA                    \\\\\n",
       "\t Graines Colza/Moutarde   &  0                       &    0                     &   NA                    \\\\\n",
       "\t Graines de coton         & NA                       &    0                     &    5                    \\\\\n",
       "\t Graines de tournesol     & NA                       &    0                     &   25                    \\\\\n",
       "\t Graisses Animales Crue   &  5                       &   40                     &   27                    \\\\\n",
       "\t ... & ... & ... & ...\\\\\n",
       "\t Perciform                &    1                     &  157                     &    183                  \\\\\n",
       "\t Piments                  &   23                     &    3                     &    156                  \\\\\n",
       "\t Plantes Aquatiques       &    0                     &    1                     &      0                  \\\\\n",
       "\t Plantes Oleiferes, Autre &    0                     &    1                     &    176                  \\\\\n",
       "\t Pois                     &    1                     &    0                     &     NA                  \\\\\n",
       "\t Poissons Eau Douce       &   16                     &   97                     &    599                  \\\\\n",
       "\t Poissons Marins, Autres  &    0                     &  180                     &    499                  \\\\\n",
       "\t Poissons Pelagiques      &   30                     & 1390                     &    595                  \\\\\n",
       "\t Poivre                   &    1                     &    0                     &      3                  \\\\\n",
       "\t Pommes                   &    2                     &   43                     &     NA                  \\\\\n",
       "\t Pommes de Terre          &    8                     &    4                     &    105                  \\\\\n",
       "\t Racines nda              &   15                     &    5                     &    349                  \\\\\n",
       "\t Raisin                   &    4                     &    5                     &     80                  \\\\\n",
       "\t Riz (Eq Blanchi)         & 1139                     & 6860                     &  24054                  \\\\\n",
       "\t Seigle                   &    0                     &    0                     &     NA                  \\\\\n",
       "\t Soja                     &   22                     &   12                     &    190                  \\\\\n",
       "\t Sorgho                   &   NA                     &    2                     &     57                  \\\\\n",
       "\t Sucre Eq Brut            &  368                     & 6462                     &  10024                  \\\\\n",
       "\t Sucre, betterave         &   NA                     &    0                     &     NA                  \\\\\n",
       "\t Sucre, canne             &   49                     &    0                     & 100096                  \\\\\n",
       "\t Sésame                   &    2                     &    6                     &     52                  \\\\\n",
       "\t Thé                      &    1                     &   30                     &     75                  \\\\\n",
       "\t Tomates                  &    1                     &    5                     &     95                  \\\\\n",
       "\t Viande d'Ovins/Caprins   &    0                     &    0                     &      2                  \\\\\n",
       "\t Viande de Bovins         &   10                     &  106                     &    195                  \\\\\n",
       "\t Viande de Suides         &  124                     &   22                     &    891                  \\\\\n",
       "\t Viande de Volailles      &   52                     &  536                     &   1470                  \\\\\n",
       "\t Viande, Autre            &    0                     &   96                     &     NA                  \\\\\n",
       "\t Vin                      &    0                     &    8                     &     NA                  \\\\\n",
       "\t Épices, Autres           &   16                     &   42                     &    143                  \\\\\n",
       "\\end{tabular}\n"
      ],
      "text/markdown": [
       "\n",
       "| Produit | Disponibilité.alimentaire..Kcal.personne.jour. | Exportations...Quantité | Production |\n",
       "|---|---|---|---|\n",
       "| Abats Comestible         |  3                       |    5                     |   45                     |\n",
       "| Agrumes, Autres          |  0                       |    6                     |   12                     |\n",
       "| Alcool, non Comestible   | NA                       |  110                     |  447                     |\n",
       "| Aliments pour enfants    |  2                       |    7                     |   NA                     |\n",
       "| Ananas                   | 10                       | 1449                     | 2209                     |\n",
       "| Animaux Aquatiques Autre |  1                       |   25                     |  110                     |\n",
       "| Arachides Decortiquees   |  9                       |    5                     |   33                     |\n",
       "| Avoine                   |  0                       |    0                     |   NA                     |\n",
       "| Bananes                  | 26                       |  446                     | 1600                     |\n",
       "| Beurre, Ghee             |  4                       |    1                     |   NA                     |\n",
       "| Bière                    | 41                       |  249                     | 2273                     |\n",
       "| Blé                      | 76                       |  237                     |    2                     |\n",
       "| Boissons Alcooliques     | 83                       |   13                     |  660                     |\n",
       "| Boissons Fermentés       |  0                       |    2                     |   12                     |\n",
       "| Café                     |  0                       |  150                     |   50                     |\n",
       "| Cephalopodes             |  5                       |   72                     |  128                     |\n",
       "| Citrons & Limes          |  1                       |   17                     |  132                     |\n",
       "| Coco (Incl Coprah)       | 42                       |   62                     | 1010                     |\n",
       "| Crustacés                |  2                       |  678                     |  718                     |\n",
       "| Crème                    |  0                       |    1                     |    1                     |\n",
       "| Céréales, Autres         |  0                       |  222                     |  254                     |\n",
       "| Dattes                   |  0                       |    0                     |   NA                     |\n",
       "| Edulcorants Autres       | 21                       |   62                     |  117                     |\n",
       "| Feve de Cacao            |  3                       |   22                     |    1                     |\n",
       "| Fruits, Autres           | 63                       | 2671                     | 6141                     |\n",
       "| Girofles                 |  0                       |    0                     |   NA                     |\n",
       "| Graines Colza/Moutarde   |  0                       |    0                     |   NA                     |\n",
       "| Graines de coton         | NA                       |    0                     |    5                     |\n",
       "| Graines de tournesol     | NA                       |    0                     |   25                     |\n",
       "| Graisses Animales Crue   |  5                       |   40                     |   27                     |\n",
       "| ... | ... | ... | ... |\n",
       "| Perciform                |    1                     |  157                     |    183                   |\n",
       "| Piments                  |   23                     |    3                     |    156                   |\n",
       "| Plantes Aquatiques       |    0                     |    1                     |      0                   |\n",
       "| Plantes Oleiferes, Autre |    0                     |    1                     |    176                   |\n",
       "| Pois                     |    1                     |    0                     |     NA                   |\n",
       "| Poissons Eau Douce       |   16                     |   97                     |    599                   |\n",
       "| Poissons Marins, Autres  |    0                     |  180                     |    499                   |\n",
       "| Poissons Pelagiques      |   30                     | 1390                     |    595                   |\n",
       "| Poivre                   |    1                     |    0                     |      3                   |\n",
       "| Pommes                   |    2                     |   43                     |     NA                   |\n",
       "| Pommes de Terre          |    8                     |    4                     |    105                   |\n",
       "| Racines nda              |   15                     |    5                     |    349                   |\n",
       "| Raisin                   |    4                     |    5                     |     80                   |\n",
       "| Riz (Eq Blanchi)         | 1139                     | 6860                     |  24054                   |\n",
       "| Seigle                   |    0                     |    0                     |     NA                   |\n",
       "| Soja                     |   22                     |   12                     |    190                   |\n",
       "| Sorgho                   |   NA                     |    2                     |     57                   |\n",
       "| Sucre Eq Brut            |  368                     | 6462                     |  10024                   |\n",
       "| Sucre, betterave         |   NA                     |    0                     |     NA                   |\n",
       "| Sucre, canne             |   49                     |    0                     | 100096                   |\n",
       "| Sésame                   |    2                     |    6                     |     52                   |\n",
       "| Thé                      |    1                     |   30                     |     75                   |\n",
       "| Tomates                  |    1                     |    5                     |     95                   |\n",
       "| Viande d'Ovins/Caprins   |    0                     |    0                     |      2                   |\n",
       "| Viande de Bovins         |   10                     |  106                     |    195                   |\n",
       "| Viande de Suides         |  124                     |   22                     |    891                   |\n",
       "| Viande de Volailles      |   52                     |  536                     |   1470                   |\n",
       "| Viande, Autre            |    0                     |   96                     |     NA                   |\n",
       "| Vin                      |    0                     |    8                     |     NA                   |\n",
       "| Épices, Autres           |   16                     |   42                     |    143                   |\n",
       "\n"
      ],
      "text/plain": [
       "    Produit                  Disponibilité.alimentaire..Kcal.personne.jour.\n",
       "1   Abats Comestible          3                                            \n",
       "2   Agrumes, Autres           0                                            \n",
       "3   Alcool, non Comestible   NA                                            \n",
       "4   Aliments pour enfants     2                                            \n",
       "5   Ananas                   10                                            \n",
       "6   Animaux Aquatiques Autre  1                                            \n",
       "7   Arachides Decortiquees    9                                            \n",
       "8   Avoine                    0                                            \n",
       "9   Bananes                  26                                            \n",
       "10  Beurre, Ghee              4                                            \n",
       "11  Bière                    41                                            \n",
       "12  Blé                      76                                            \n",
       "13  Boissons Alcooliques     83                                            \n",
       "14  Boissons Fermentés        0                                            \n",
       "15  Café                      0                                            \n",
       "16  Cephalopodes              5                                            \n",
       "17  Citrons & Limes           1                                            \n",
       "18  Coco (Incl Coprah)       42                                            \n",
       "19  Crustacés                 2                                            \n",
       "20  Crème                     0                                            \n",
       "21  Céréales, Autres          0                                            \n",
       "22  Dattes                    0                                            \n",
       "23  Edulcorants Autres       21                                            \n",
       "24  Feve de Cacao             3                                            \n",
       "25  Fruits, Autres           63                                            \n",
       "26  Girofles                  0                                            \n",
       "27  Graines Colza/Moutarde    0                                            \n",
       "28  Graines de coton         NA                                            \n",
       "29  Graines de tournesol     NA                                            \n",
       "30  Graisses Animales Crue    5                                            \n",
       "... ...                      ...                                           \n",
       "66  Perciform                   1                                          \n",
       "67  Piments                    23                                          \n",
       "68  Plantes Aquatiques          0                                          \n",
       "69  Plantes Oleiferes, Autre    0                                          \n",
       "70  Pois                        1                                          \n",
       "71  Poissons Eau Douce         16                                          \n",
       "72  Poissons Marins, Autres     0                                          \n",
       "73  Poissons Pelagiques        30                                          \n",
       "74  Poivre                      1                                          \n",
       "75  Pommes                      2                                          \n",
       "76  Pommes de Terre             8                                          \n",
       "77  Racines nda                15                                          \n",
       "78  Raisin                      4                                          \n",
       "79  Riz (Eq Blanchi)         1139                                          \n",
       "80  Seigle                      0                                          \n",
       "81  Soja                       22                                          \n",
       "82  Sorgho                     NA                                          \n",
       "83  Sucre Eq Brut             368                                          \n",
       "84  Sucre, betterave           NA                                          \n",
       "85  Sucre, canne               49                                          \n",
       "86  Sésame                      2                                          \n",
       "87  Thé                         1                                          \n",
       "88  Tomates                     1                                          \n",
       "89  Viande d'Ovins/Caprins      0                                          \n",
       "90  Viande de Bovins           10                                          \n",
       "91  Viande de Suides          124                                          \n",
       "92  Viande de Volailles        52                                          \n",
       "93  Viande, Autre               0                                          \n",
       "94  Vin                         0                                          \n",
       "95  Épices, Autres             16                                          \n",
       "    Exportations...Quantité Production\n",
       "1      5                      45      \n",
       "2      6                      12      \n",
       "3    110                     447      \n",
       "4      7                      NA      \n",
       "5   1449                    2209      \n",
       "6     25                     110      \n",
       "7      5                      33      \n",
       "8      0                      NA      \n",
       "9    446                    1600      \n",
       "10     1                      NA      \n",
       "11   249                    2273      \n",
       "12   237                       2      \n",
       "13    13                     660      \n",
       "14     2                      12      \n",
       "15   150                      50      \n",
       "16    72                     128      \n",
       "17    17                     132      \n",
       "18    62                    1010      \n",
       "19   678                     718      \n",
       "20     1                       1      \n",
       "21   222                     254      \n",
       "22     0                      NA      \n",
       "23    62                     117      \n",
       "24    22                       1      \n",
       "25  2671                    6141      \n",
       "26     0                      NA      \n",
       "27     0                      NA      \n",
       "28     0                       5      \n",
       "29     0                      25      \n",
       "30    40                      27      \n",
       "... ...                     ...       \n",
       "66   157                       183    \n",
       "67     3                       156    \n",
       "68     1                         0    \n",
       "69     1                       176    \n",
       "70     0                        NA    \n",
       "71    97                       599    \n",
       "72   180                       499    \n",
       "73  1390                       595    \n",
       "74     0                         3    \n",
       "75    43                        NA    \n",
       "76     4                       105    \n",
       "77     5                       349    \n",
       "78     5                        80    \n",
       "79  6860                     24054    \n",
       "80     0                        NA    \n",
       "81    12                       190    \n",
       "82     2                        57    \n",
       "83  6462                     10024    \n",
       "84     0                        NA    \n",
       "85     0                    100096    \n",
       "86     6                        52    \n",
       "87    30                        75    \n",
       "88     5                        95    \n",
       "89     0                         2    \n",
       "90   106                       195    \n",
       "91    22                       891    \n",
       "92   536                      1470    \n",
       "93    96                        NA    \n",
       "94     8                        NA    \n",
       "95    42                       143    "
      ]
     },
     "metadata": {},
     "output_type": "display_data"
    },
    {
     "data": {
      "text/html": [
       "<table>\n",
       "<thead><tr><th></th><th scope=col>Produit</th><th scope=col>Disponibilité.alimentaire..Kcal.personne.jour.</th><th scope=col>Exportations...Quantité</th><th scope=col>Production</th></tr></thead>\n",
       "<tbody>\n",
       "\t<tr><th scope=row>51</th><td>Manioc             </td><td>  40               </td><td>25214              </td><td>30228              </td></tr>\n",
       "\t<tr><th scope=row>79</th><td>Riz (Eq Blanchi)   </td><td>1139               </td><td> 6860              </td><td>24054              </td></tr>\n",
       "\t<tr><th scope=row>83</th><td>Sucre Eq Brut      </td><td> 368               </td><td> 6462              </td><td>10024              </td></tr>\n",
       "\t<tr><th scope=row>25</th><td>Fruits, Autres     </td><td>  63               </td><td> 2671              </td><td> 6141              </td></tr>\n",
       "\t<tr><th scope=row>5</th><td>Ananas             </td><td>  10               </td><td> 1449              </td><td> 2209              </td></tr>\n",
       "\t<tr><th scope=row>73</th><td>Poissons Pelagiques</td><td>  30               </td><td> 1390              </td><td>  595              </td></tr>\n",
       "</tbody>\n",
       "</table>\n"
      ],
      "text/latex": [
       "\\begin{tabular}{r|llll}\n",
       "  & Produit & Disponibilité.alimentaire..Kcal.personne.jour. & Exportations...Quantité & Production\\\\\n",
       "\\hline\n",
       "\t51 & Manioc              &   40                & 25214               & 30228              \\\\\n",
       "\t79 & Riz (Eq Blanchi)    & 1139                &  6860               & 24054              \\\\\n",
       "\t83 & Sucre Eq Brut       &  368                &  6462               & 10024              \\\\\n",
       "\t25 & Fruits, Autres      &   63                &  2671               &  6141              \\\\\n",
       "\t5 & Ananas              &   10                &  1449               &  2209              \\\\\n",
       "\t73 & Poissons Pelagiques &   30                &  1390               &   595              \\\\\n",
       "\\end{tabular}\n"
      ],
      "text/markdown": [
       "\n",
       "| <!--/--> | Produit | Disponibilité.alimentaire..Kcal.personne.jour. | Exportations...Quantité | Production |\n",
       "|---|---|---|---|---|\n",
       "| 51 | Manioc              |   40                | 25214               | 30228               |\n",
       "| 79 | Riz (Eq Blanchi)    | 1139                |  6860               | 24054               |\n",
       "| 83 | Sucre Eq Brut       |  368                |  6462               | 10024               |\n",
       "| 25 | Fruits, Autres      |   63                |  2671               |  6141               |\n",
       "| 5 | Ananas              |   10                |  1449               |  2209               |\n",
       "| 73 | Poissons Pelagiques |   30                |  1390               |   595               |\n",
       "\n"
      ],
      "text/plain": [
       "   Produit             Disponibilité.alimentaire..Kcal.personne.jour.\n",
       "51 Manioc                40                                          \n",
       "79 Riz (Eq Blanchi)    1139                                          \n",
       "83 Sucre Eq Brut        368                                          \n",
       "25 Fruits, Autres        63                                          \n",
       "5  Ananas                10                                          \n",
       "73 Poissons Pelagiques   30                                          \n",
       "   Exportations...Quantité Production\n",
       "51 25214                   30228     \n",
       "79  6860                   24054     \n",
       "83  6462                   10024     \n",
       "25  2671                    6141     \n",
       "5   1449                    2209     \n",
       "73  1390                     595     "
      ]
     },
     "metadata": {},
     "output_type": "display_data"
    }
   ],
   "source": [
    "ThailandeB = dplyr::filter(dispo_alimentaire, Zone==\"Thaïlande\")\n",
    "ThailandeC = ThailandeB[, c(2, 6, 11, 15)]\n",
    "ThailandeC"
   ]
  },
  {
   "cell_type": "code",
   "execution_count": null,
   "id": "e9aeb8c3",
   "metadata": {},
   "outputs": [],
   "source": [
    "head(ThailandeC[order(-ThailandeC$Exportations...Quantité),])"
   ]
  },
  {
   "cell_type": "code",
   "execution_count": null,
   "id": "8c3d86ab",
   "metadata": {},
   "outputs": [],
   "source": []
  }
 ],
 "metadata": {
  "kernelspec": {
   "display_name": "R",
   "language": "R",
   "name": "ir"
  },
  "language_info": {
   "codemirror_mode": "r",
   "file_extension": ".r",
   "mimetype": "text/x-r-source",
   "name": "R",
   "pygments_lexer": "r",
   "version": "3.6.1"
  }
 },
 "nbformat": 4,
 "nbformat_minor": 5
}
